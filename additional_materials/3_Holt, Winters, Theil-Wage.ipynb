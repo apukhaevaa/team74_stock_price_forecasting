{
 "cells": [
  {
   "cell_type": "markdown",
   "metadata": {
    "id": "ZPU5rwsbdwUW"
   },
   "source": [
    "SAS & HSE, Applied Time Series Forecasitng , Fall 2024\n",
    "\n",
    "<font color=\"green\"> Lesson #3: Holt, Winters, Theil-Wage models. Exponential Smoothing Models </font>\n",
    "\n",
    "<span style=\"color:black; font-size: 12pt\"></span>\n",
    "\n",
    "Alexey Romanenko,\n",
    "<font color=\"blue\">alexromsput@gmail.com</font>"
   ]
  },
  {
   "cell_type": "markdown",
   "metadata": {
    "id": "W7KXBrRfdwUg"
   },
   "source": [
    "**Key words:**  exponential smoothing models, Holt model,Winters model, Theil-Wage Model\n",
    "\n",
    "**Your feedback:**  please provide you feedback  <a href=\"https://forms.gle/EQgXEVQe9PPXUBzm6\"> here </a>"
   ]
  },
  {
   "cell_type": "code",
   "execution_count": 1,
   "metadata": {
    "id": "4trZXQl2dwUk"
   },
   "outputs": [
    {
     "ename": "ModuleNotFoundError",
     "evalue": "No module named 'utils'",
     "output_type": "error",
     "traceback": [
      "\u001b[1;31m---------------------------------------------------------------------------\u001b[0m",
      "\u001b[1;31mModuleNotFoundError\u001b[0m                       Traceback (most recent call last)",
      "Cell \u001b[1;32mIn[1], line 13\u001b[0m\n\u001b[0;32m     10\u001b[0m \u001b[38;5;28;01mfrom\u001b[39;00m \u001b[38;5;21;01mplotly\u001b[39;00m\u001b[38;5;21;01m.\u001b[39;00m\u001b[38;5;21;01msubplots\u001b[39;00m \u001b[38;5;28;01mimport\u001b[39;00m make_subplots\n\u001b[0;32m     11\u001b[0m pd\u001b[38;5;241m.\u001b[39moptions\u001b[38;5;241m.\u001b[39mplotting\u001b[38;5;241m.\u001b[39mbackend \u001b[38;5;241m=\u001b[39m \u001b[38;5;124m\"\u001b[39m\u001b[38;5;124mplotly\u001b[39m\u001b[38;5;124m\"\u001b[39m\n\u001b[1;32m---> 13\u001b[0m \u001b[38;5;28;01mfrom\u001b[39;00m \u001b[38;5;21;01mutils\u001b[39;00m \u001b[38;5;28;01mimport\u001b[39;00m qualityMAPE, SimpleExponentialSmoothing, build_forecast, plot_ts_forecast\n\u001b[0;32m     14\u001b[0m \u001b[38;5;66;03m# from utils import plot_ts_forecast, plot_ts_forecast # don't forget to upload file in colab working repository\u001b[39;00m\n\u001b[0;32m     15\u001b[0m \u001b[38;5;28;01mimport\u001b[39;00m \u001b[38;5;21;01mwarnings\u001b[39;00m \u001b[38;5;28;01mas\u001b[39;00m \u001b[38;5;21;01mw\u001b[39;00m\n",
      "\u001b[1;31mModuleNotFoundError\u001b[0m: No module named 'utils'"
     ]
    }
   ],
   "source": [
    "import numpy as np\n",
    "from datetime import datetime, timedelta\n",
    "\n",
    "import pandas as pd\n",
    "import math\n",
    "import pandas.tseries.offsets as ofs\n",
    "\n",
    "import plotly.graph_objects as go\n",
    "import plotly.express as px\n",
    "from plotly.subplots import make_subplots\n",
    "pd.options.plotting.backend = \"plotly\"\n",
    "\n",
    "from utils import qualityMAPE, SimpleExponentialSmoothing, build_forecast, plot_ts_forecast\n",
    "# from utils import plot_ts_forecast, plot_ts_forecast # don't forget to upload file in colab working repository\n",
    "import warnings as w\n",
    "# %matplotlib inline"
   ]
  },
  {
   "cell_type": "markdown",
   "metadata": {
    "id": "p_V9FzoJdwUm"
   },
   "source": [
    "# Holt model, Winters model, Theil-Wage model"
   ]
  },
  {
   "cell_type": "code",
   "execution_count": 2,
   "metadata": {
    "colab": {
     "base_uri": "https://localhost:8080/",
     "height": 387
    },
    "id": "x9Ar1oUSdwUx",
    "outputId": "93fc6af8-fd68-4f50-d7f7-ab63fe3a15cf"
   },
   "outputs": [
    {
     "ename": "ValueError",
     "evalue": "Mime type rendering requires nbformat>=4.2.0 but it is not installed",
     "output_type": "error",
     "traceback": [
      "\u001b[1;31m---------------------------------------------------------------------------\u001b[0m",
      "\u001b[1;31mValueError\u001b[0m                                Traceback (most recent call last)",
      "Cell \u001b[1;32mIn[2], line 3\u001b[0m\n\u001b[0;32m      1\u001b[0m \u001b[38;5;66;03m# Wage data in RF\u001b[39;00m\n\u001b[0;32m      2\u001b[0m wage \u001b[38;5;241m=\u001b[39m pd\u001b[38;5;241m.\u001b[39mread_csv(\u001b[38;5;124m'\u001b[39m\u001b[38;5;124mhttps://raw.githubusercontent.com/aromanenko/ATSF/main/data/monthly-wage.csv\u001b[39m\u001b[38;5;124m'\u001b[39m, sep\u001b[38;5;241m=\u001b[39m\u001b[38;5;124m'\u001b[39m\u001b[38;5;124m;\u001b[39m\u001b[38;5;124m'\u001b[39m, index_col\u001b[38;5;241m=\u001b[39m \u001b[38;5;241m0\u001b[39m, parse_dates\u001b[38;5;241m=\u001b[39m\u001b[38;5;28;01mTrue\u001b[39;00m)\n\u001b[1;32m----> 3\u001b[0m \u001b[43mwage\u001b[49m\u001b[38;5;241;43m.\u001b[39;49m\u001b[43mplot\u001b[49m\u001b[43m(\u001b[49m\u001b[43m)\u001b[49m\u001b[38;5;241;43m.\u001b[39;49m\u001b[43mupdate_layout\u001b[49m\u001b[43m(\u001b[49m\u001b[43mheight\u001b[49m\u001b[38;5;241;43m=\u001b[39;49m\u001b[38;5;241;43m350\u001b[39;49m\u001b[43m,\u001b[49m\u001b[43m \u001b[49m\u001b[43mwidth\u001b[49m\u001b[38;5;241;43m=\u001b[39;49m\u001b[38;5;241;43m1350\u001b[39;49m\u001b[43m)\u001b[49m\u001b[38;5;241;43m.\u001b[39;49m\u001b[43mshow\u001b[49m\u001b[43m(\u001b[49m\u001b[43m)\u001b[49m\n",
      "File \u001b[1;32mc:\\Users\\Admin\\AppData\\Local\\Programs\\Python\\Python312\\Lib\\site-packages\\plotly\\basedatatypes.py:3410\u001b[0m, in \u001b[0;36mBaseFigure.show\u001b[1;34m(self, *args, **kwargs)\u001b[0m\n\u001b[0;32m   3377\u001b[0m \u001b[38;5;250m\u001b[39m\u001b[38;5;124;03m\"\"\"\u001b[39;00m\n\u001b[0;32m   3378\u001b[0m \u001b[38;5;124;03mShow a figure using either the default renderer(s) or the renderer(s)\u001b[39;00m\n\u001b[0;32m   3379\u001b[0m \u001b[38;5;124;03mspecified by the renderer argument\u001b[39;00m\n\u001b[1;32m   (...)\u001b[0m\n\u001b[0;32m   3406\u001b[0m \u001b[38;5;124;03mNone\u001b[39;00m\n\u001b[0;32m   3407\u001b[0m \u001b[38;5;124;03m\"\"\"\u001b[39;00m\n\u001b[0;32m   3408\u001b[0m \u001b[38;5;28;01mimport\u001b[39;00m \u001b[38;5;21;01mplotly\u001b[39;00m\u001b[38;5;21;01m.\u001b[39;00m\u001b[38;5;21;01mio\u001b[39;00m \u001b[38;5;28;01mas\u001b[39;00m \u001b[38;5;21;01mpio\u001b[39;00m\n\u001b[1;32m-> 3410\u001b[0m \u001b[38;5;28;01mreturn\u001b[39;00m \u001b[43mpio\u001b[49m\u001b[38;5;241;43m.\u001b[39;49m\u001b[43mshow\u001b[49m\u001b[43m(\u001b[49m\u001b[38;5;28;43mself\u001b[39;49m\u001b[43m,\u001b[49m\u001b[43m \u001b[49m\u001b[38;5;241;43m*\u001b[39;49m\u001b[43margs\u001b[49m\u001b[43m,\u001b[49m\u001b[43m \u001b[49m\u001b[38;5;241;43m*\u001b[39;49m\u001b[38;5;241;43m*\u001b[39;49m\u001b[43mkwargs\u001b[49m\u001b[43m)\u001b[49m\n",
      "File \u001b[1;32mc:\\Users\\Admin\\AppData\\Local\\Programs\\Python\\Python312\\Lib\\site-packages\\plotly\\io\\_renderers.py:394\u001b[0m, in \u001b[0;36mshow\u001b[1;34m(fig, renderer, validate, **kwargs)\u001b[0m\n\u001b[0;32m    389\u001b[0m         \u001b[38;5;28;01mraise\u001b[39;00m \u001b[38;5;167;01mValueError\u001b[39;00m(\n\u001b[0;32m    390\u001b[0m             \u001b[38;5;124m\"\u001b[39m\u001b[38;5;124mMime type rendering requires ipython but it is not installed\u001b[39m\u001b[38;5;124m\"\u001b[39m\n\u001b[0;32m    391\u001b[0m         )\n\u001b[0;32m    393\u001b[0m     \u001b[38;5;28;01mif\u001b[39;00m \u001b[38;5;129;01mnot\u001b[39;00m nbformat \u001b[38;5;129;01mor\u001b[39;00m Version(nbformat\u001b[38;5;241m.\u001b[39m__version__) \u001b[38;5;241m<\u001b[39m Version(\u001b[38;5;124m\"\u001b[39m\u001b[38;5;124m4.2.0\u001b[39m\u001b[38;5;124m\"\u001b[39m):\n\u001b[1;32m--> 394\u001b[0m         \u001b[38;5;28;01mraise\u001b[39;00m \u001b[38;5;167;01mValueError\u001b[39;00m(\n\u001b[0;32m    395\u001b[0m             \u001b[38;5;124m\"\u001b[39m\u001b[38;5;124mMime type rendering requires nbformat>=4.2.0 but it is not installed\u001b[39m\u001b[38;5;124m\"\u001b[39m\n\u001b[0;32m    396\u001b[0m         )\n\u001b[0;32m    398\u001b[0m     ipython_display\u001b[38;5;241m.\u001b[39mdisplay(bundle, raw\u001b[38;5;241m=\u001b[39m\u001b[38;5;28;01mTrue\u001b[39;00m)\n\u001b[0;32m    400\u001b[0m \u001b[38;5;66;03m# external renderers\u001b[39;00m\n",
      "\u001b[1;31mValueError\u001b[0m: Mime type rendering requires nbformat>=4.2.0 but it is not installed"
     ]
    }
   ],
   "source": [
    "# Wage data in RF\n",
    "wage = pd.read_csv('https://raw.githubusercontent.com/aromanenko/ATSF/main/data/monthly-wage.csv', sep=';', index_col= 0, parse_dates=True)\n",
    "wage.plot().update_layout(height=350, width=1350).show()"
   ]
  },
  {
   "cell_type": "markdown",
   "metadata": {
    "id": "kfsLhJ87YV8l"
   },
   "source": [
    "**Question:**\n",
    "   * Which hidden components of the ts are not considered by SES?"
   ]
  },
  {
   "cell_type": "markdown",
   "metadata": {
    "id": "oUhUVoUedwUn"
   },
   "source": [
    "## Holt Model"
   ]
  },
  {
   "cell_type": "code",
   "execution_count": 3,
   "metadata": {
    "colab": {
     "base_uri": "https://localhost:8080/",
     "height": 387
    },
    "id": "haSpHC9_0a9H",
    "outputId": "f330e480-fc2a-4da3-e27f-11a7b21b4b6c"
   },
   "outputs": [
    {
     "ename": "ValueError",
     "evalue": "Mime type rendering requires nbformat>=4.2.0 but it is not installed",
     "output_type": "error",
     "traceback": [
      "\u001b[1;31m---------------------------------------------------------------------------\u001b[0m",
      "\u001b[1;31mValueError\u001b[0m                                Traceback (most recent call last)",
      "Cell \u001b[1;32mIn[3], line 3\u001b[0m\n\u001b[0;32m      1\u001b[0m \u001b[38;5;66;03m# Aggregate original TS by Years\u001b[39;00m\n\u001b[0;32m      2\u001b[0m wage_year \u001b[38;5;241m=\u001b[39m wage\u001b[38;5;241m.\u001b[39mresample(\u001b[38;5;124m\"\u001b[39m\u001b[38;5;124m12MS\u001b[39m\u001b[38;5;124m\"\u001b[39m)\u001b[38;5;241m.\u001b[39msum()[:\u001b[38;5;241m-\u001b[39m\u001b[38;5;241m1\u001b[39m] \u001b[38;5;66;03m# cut 2017 year\u001b[39;00m\n\u001b[1;32m----> 3\u001b[0m \u001b[43mwage_year\u001b[49m\u001b[38;5;241;43m.\u001b[39;49m\u001b[43mplot\u001b[49m\u001b[43m(\u001b[49m\u001b[43m)\u001b[49m\u001b[38;5;241;43m.\u001b[39;49m\u001b[43mupdate_layout\u001b[49m\u001b[43m(\u001b[49m\u001b[43mheight\u001b[49m\u001b[38;5;241;43m=\u001b[39;49m\u001b[38;5;241;43m350\u001b[39;49m\u001b[43m,\u001b[49m\u001b[43m \u001b[49m\u001b[43mwidth\u001b[49m\u001b[38;5;241;43m=\u001b[39;49m\u001b[38;5;241;43m1350\u001b[39;49m\u001b[43m)\u001b[49m\u001b[38;5;241;43m.\u001b[39;49m\u001b[43mshow\u001b[49m\u001b[43m(\u001b[49m\u001b[43m)\u001b[49m\n",
      "File \u001b[1;32mc:\\Users\\Admin\\AppData\\Local\\Programs\\Python\\Python312\\Lib\\site-packages\\plotly\\basedatatypes.py:3410\u001b[0m, in \u001b[0;36mBaseFigure.show\u001b[1;34m(self, *args, **kwargs)\u001b[0m\n\u001b[0;32m   3377\u001b[0m \u001b[38;5;250m\u001b[39m\u001b[38;5;124;03m\"\"\"\u001b[39;00m\n\u001b[0;32m   3378\u001b[0m \u001b[38;5;124;03mShow a figure using either the default renderer(s) or the renderer(s)\u001b[39;00m\n\u001b[0;32m   3379\u001b[0m \u001b[38;5;124;03mspecified by the renderer argument\u001b[39;00m\n\u001b[1;32m   (...)\u001b[0m\n\u001b[0;32m   3406\u001b[0m \u001b[38;5;124;03mNone\u001b[39;00m\n\u001b[0;32m   3407\u001b[0m \u001b[38;5;124;03m\"\"\"\u001b[39;00m\n\u001b[0;32m   3408\u001b[0m \u001b[38;5;28;01mimport\u001b[39;00m \u001b[38;5;21;01mplotly\u001b[39;00m\u001b[38;5;21;01m.\u001b[39;00m\u001b[38;5;21;01mio\u001b[39;00m \u001b[38;5;28;01mas\u001b[39;00m \u001b[38;5;21;01mpio\u001b[39;00m\n\u001b[1;32m-> 3410\u001b[0m \u001b[38;5;28;01mreturn\u001b[39;00m \u001b[43mpio\u001b[49m\u001b[38;5;241;43m.\u001b[39;49m\u001b[43mshow\u001b[49m\u001b[43m(\u001b[49m\u001b[38;5;28;43mself\u001b[39;49m\u001b[43m,\u001b[49m\u001b[43m \u001b[49m\u001b[38;5;241;43m*\u001b[39;49m\u001b[43margs\u001b[49m\u001b[43m,\u001b[49m\u001b[43m \u001b[49m\u001b[38;5;241;43m*\u001b[39;49m\u001b[38;5;241;43m*\u001b[39;49m\u001b[43mkwargs\u001b[49m\u001b[43m)\u001b[49m\n",
      "File \u001b[1;32mc:\\Users\\Admin\\AppData\\Local\\Programs\\Python\\Python312\\Lib\\site-packages\\plotly\\io\\_renderers.py:394\u001b[0m, in \u001b[0;36mshow\u001b[1;34m(fig, renderer, validate, **kwargs)\u001b[0m\n\u001b[0;32m    389\u001b[0m         \u001b[38;5;28;01mraise\u001b[39;00m \u001b[38;5;167;01mValueError\u001b[39;00m(\n\u001b[0;32m    390\u001b[0m             \u001b[38;5;124m\"\u001b[39m\u001b[38;5;124mMime type rendering requires ipython but it is not installed\u001b[39m\u001b[38;5;124m\"\u001b[39m\n\u001b[0;32m    391\u001b[0m         )\n\u001b[0;32m    393\u001b[0m     \u001b[38;5;28;01mif\u001b[39;00m \u001b[38;5;129;01mnot\u001b[39;00m nbformat \u001b[38;5;129;01mor\u001b[39;00m Version(nbformat\u001b[38;5;241m.\u001b[39m__version__) \u001b[38;5;241m<\u001b[39m Version(\u001b[38;5;124m\"\u001b[39m\u001b[38;5;124m4.2.0\u001b[39m\u001b[38;5;124m\"\u001b[39m):\n\u001b[1;32m--> 394\u001b[0m         \u001b[38;5;28;01mraise\u001b[39;00m \u001b[38;5;167;01mValueError\u001b[39;00m(\n\u001b[0;32m    395\u001b[0m             \u001b[38;5;124m\"\u001b[39m\u001b[38;5;124mMime type rendering requires nbformat>=4.2.0 but it is not installed\u001b[39m\u001b[38;5;124m\"\u001b[39m\n\u001b[0;32m    396\u001b[0m         )\n\u001b[0;32m    398\u001b[0m     ipython_display\u001b[38;5;241m.\u001b[39mdisplay(bundle, raw\u001b[38;5;241m=\u001b[39m\u001b[38;5;28;01mTrue\u001b[39;00m)\n\u001b[0;32m    400\u001b[0m \u001b[38;5;66;03m# external renderers\u001b[39;00m\n",
      "\u001b[1;31mValueError\u001b[0m: Mime type rendering requires nbformat>=4.2.0 but it is not installed"
     ]
    }
   ],
   "source": [
    "# Aggregate original TS by Years\n",
    "wage_year = wage.resample(\"12MS\").sum()[:-1] # cut 2017 year\n",
    "wage_year.plot().update_layout(height=350, width=1350).show()"
   ]
  },
  {
   "cell_type": "code",
   "execution_count": 4,
   "metadata": {
    "colab": {
     "base_uri": "https://localhost:8080/",
     "height": 403
    },
    "id": "CXsDBUkWXQxe",
    "outputId": "9d2a5384-2fde-43dd-9c75-dd10158eaee1"
   },
   "outputs": [
    {
     "ename": "NameError",
     "evalue": "name 'build_forecast' is not defined",
     "output_type": "error",
     "traceback": [
      "\u001b[1;31m---------------------------------------------------------------------------\u001b[0m",
      "\u001b[1;31mNameError\u001b[0m                                 Traceback (most recent call last)",
      "Cell \u001b[1;32mIn[4], line 4\u001b[0m\n\u001b[0;32m      2\u001b[0m ALPHA \u001b[38;5;241m=\u001b[39m np\u001b[38;5;241m.\u001b[39mlinspace(\u001b[38;5;241m0.01\u001b[39m,\u001b[38;5;241m1\u001b[39m,\u001b[38;5;241m10\u001b[39m)\n\u001b[0;32m      3\u001b[0m ESparams \u001b[38;5;241m=\u001b[39m [{\u001b[38;5;124m'\u001b[39m\u001b[38;5;124malpha\u001b[39m\u001b[38;5;124m'\u001b[39m:alpha} \u001b[38;5;28;01mfor\u001b[39;00m alpha \u001b[38;5;129;01min\u001b[39;00m ALPHA]\n\u001b[1;32m----> 4\u001b[0m FRC_WAGE_YEAR \u001b[38;5;241m=\u001b[39m \u001b[43mbuild_forecast\u001b[49m(h\u001b[38;5;241m=\u001b[39m\u001b[38;5;241m1\u001b[39m, ts\u001b[38;5;241m=\u001b[39mwage_year, alg_name \u001b[38;5;241m=\u001b[39m  \u001b[38;5;124m'\u001b[39m\u001b[38;5;124mSimpleExponentialSmoothing\u001b[39m\u001b[38;5;124m'\u001b[39m, alg_title\u001b[38;5;241m=\u001b[39m\u001b[38;5;124m'\u001b[39m\u001b[38;5;124mSES\u001b[39m\u001b[38;5;124m'\u001b[39m\n\u001b[0;32m      5\u001b[0m                               ,params \u001b[38;5;241m=\u001b[39m ESparams, step\u001b[38;5;241m=\u001b[39m\u001b[38;5;124m'\u001b[39m\u001b[38;5;124m12MS\u001b[39m\u001b[38;5;124m'\u001b[39m)\n\u001b[0;32m      7\u001b[0m \u001b[38;5;66;03m# forecast accuracy\u001b[39;00m\n\u001b[0;32m      8\u001b[0m qlt_ses \u001b[38;5;241m=\u001b[39m pd\u001b[38;5;241m.\u001b[39mDataFrame(index \u001b[38;5;241m=\u001b[39m wage_year\u001b[38;5;241m.\u001b[39mcolumns, columns \u001b[38;5;241m=\u001b[39m FRC_WAGE_YEAR\u001b[38;5;241m.\u001b[39mkeys())\n",
      "\u001b[1;31mNameError\u001b[0m: name 'build_forecast' is not defined"
     ]
    }
   ],
   "source": [
    "# SES Forecast for monthly agregated data\n",
    "ALPHA = np.linspace(0.01,1,10)\n",
    "ESparams = [{'alpha':alpha} for alpha in ALPHA]\n",
    "FRC_WAGE_YEAR = build_forecast(h=1, ts=wage_year, alg_name =  'SimpleExponentialSmoothing', alg_title='SES'\n",
    "                              ,params = ESparams, step='12MS')\n",
    "\n",
    "# forecast accuracy\n",
    "qlt_ses = pd.DataFrame(index = wage_year.columns, columns = FRC_WAGE_YEAR.keys())\n",
    "\n",
    "ix = wage_year.loc['2010-01':'2018-01'].index\n",
    "for param_cntr in sorted(qlt_ses.columns):\n",
    "    frc_wage = FRC_WAGE_YEAR[param_cntr]\n",
    "    qlt_ses[param_cntr],_ = qualityMAPE(wage_year.loc[ix], frc_wage.loc[ix])\n",
    "\n",
    "# Draw forecast of the best SES algorithm\n",
    "alg_name = qlt_ses[qlt_ses.columns].mean().sort_values().index[0]\n",
    "plot_ts_forecast(wage_year.loc['1999-01-01':'2016-01-01'], FRC_WAGE_YEAR[alg_name].loc['1999-01-01':'2016-01-01']\n",
    "               , ts_num=0, alg_title=alg_name)\n",
    "\n",
    "test_period_start = '2000-01-01'\n",
    "test_period_end = '2016-01-01'\n",
    "print('MAPE: %s' % qualityMAPE(wage_year.loc[test_period_start:test_period_end], FRC_WAGE_YEAR[alg_name].loc[test_period_start:test_period_end])[0])"
   ]
  },
  {
   "cell_type": "markdown",
   "metadata": {
    "id": "W7--7n03Ym93"
   },
   "source": [
    "\n",
    "**Question:**\n",
    "   * How to include trend component in Exponential Smoothing model?"
   ]
  },
  {
   "cell_type": "markdown",
   "metadata": {
    "id": "E2WUxL47wTgg"
   },
   "source": [
    "**From Simple Exponential Smoothing to Holt Model**\n",
    "$\\varepsilon_t~-$ error component (unobserved noise)\n",
    "\n",
    "$l_t$ $-$ changing slowly level of time series,\n",
    "\n",
    "$\\hat l_t~-$ an estimation of level\n",
    "\n",
    "$\\hat y_t~-$ forecast value for $y_t$ (made with delay = 1)\n",
    "\n",
    "${e_t = y_t - \\hat y_t }$\n",
    "\n",
    "<table border=\"0\">\n",
    " <tr>\n",
    "    <td><b style=\"font-size:30px\">$~~~~~~~~~~~~~~~~~~~~~~~~~~~~~~~~~~~~~~~~~~~~~~~~~~~~~~~~~~~~~~~~~~~~$Simple Exponential Smoothing$~~~~~~~~~~~~~~~~~~~~~~~~~~~~~~~~~~~~~~~~~~~~~~~~~~~~~~~~~~~~~~~~~~~~$\n",
    "</b></td>\n",
    "    <td><b style=\"font-size:30px\">$~~~~~~~~~~~~~~~~~~~~~~~~~~~~~~~~~~~~~~~~~~~~~~~~~~~~~~~~~~~~~~~~~~~~$ Holt model (additive linear trend)$~~~~~~~~~~~~~~~~~~~~~~~~~~~~~~~~~~~~~~~~~~~~~~~~~~~~~~~~~~~~~~~~~~~~$</b></td>\n",
    " </tr>\n",
    " <tr>\n",
    "    <td>\n",
    "\n",
    "Time Series Model    \n",
    "    $$y_{t} = l_t + \\color{red}{\\varepsilon_t},$$\n",
    "\n",
    "Forecasting model:\n",
    "\n",
    "$$ {\\hat y_{t+d}} = \\color{\\red}{\\hat l_t} $$\n",
    "\n",
    "\n",
    "$$\\hat{l}_{t} = \\alpha\\cdot y_t+ (1-\\alpha)\\cdot \\hat{y}_t = \\hat y_t + \\alpha \\cdot \\color{red}{e_t}$$\n",
    "    <td>\n",
    "\n",
    "Time series model:\n",
    "$$  y_{t} = l_t + \\color{red}{b_t}  + {\\varepsilon_t} $$\n",
    "\n",
    "Forecasting formula:\n",
    "    $$  \\hat y_{t+d} = \\hat l_t + \\color{red}{\\hat b_t} d $$\n",
    "    <!-- where $l_t$, $\\color{red}{b_t}$ --- estimations of unopbserved components of level and trend correspondently -->\n",
    "\n",
    "\n",
    "$$       \\hat l_t = \\alpha y_t + (1-\\alpha) (\\hat l_{t-1} + \\hat b_{t-1} ) = \\color{red}{\\hat y_{t} + \\alpha e_t}$$\n",
    "\n",
    "$$\\hat b_t = \\beta (\\hat l_{t} - \\hat l_{t-1} ) + (1-\\beta) \\hat b_{t-1} = \\color{red}{\\hat b_{t-1}+ \\alpha\\beta e_t}.$$</td>\n",
    " </tr>\n",
    "</table>\n",
    "\n",
    "\n",
    "\n",
    "<!-- Доказательство\n",
    "\n",
    "$$\\beta (l_{t} - l_{t-1} ) + (1-\\beta) b_{t-1} = b_{t-1}+ \\beta(l_t-l_{t-1}-b_{t-1})= b_{t-1}+ \\beta(l_t-l_{t-1}-b_{t-1}) +\\alpha e_t$$ -->\n",
    "\n"
   ]
  },
  {
   "cell_type": "code",
   "execution_count": 5,
   "metadata": {
    "id": "yQFYS4YX09K_"
   },
   "outputs": [],
   "source": [
    "###################### Holt Exponential Smoothing #########################\n",
    "# x <array Tx1>- time series,\n",
    "# h <scalar> - forecasting delay\n",
    "# Params <dict> - dictionary with\n",
    "#    alpha <scalar in [0,1]> - smoothing parameter\n",
    "#    beta <scalar in [0,1]> - linear trend smoothing parameter\n",
    "#\n",
    "def myHoltExponentialSmoothing(x, h, params, freq=None):\n",
    "    T = len(x)\n",
    "    alpha = params['alpha']\n",
    "    beta = params['beta']\n",
    "    AdaptationPeriod = params['AdaptationPeriod']\n",
    "\n",
    "    # retrieve date frequency in ts\n",
    "    if freq is None:\n",
    "      freq = pd.infer_freq(x.index)\n",
    "\n",
    "    # prepare Forecast pd.Series to put forecasted values in it\n",
    "    forecast = pd.Series(index = x.index.append(pd.date_range(x.index[-1], periods=h+1, freq=freq)[1:]), name = 'fcst '+x.name)\n",
    "\n",
    "    # L = [np.NaN]*T.  # level component\n",
    "    # B = [np.NaN]*T.  # trend component\n",
    "    if alpha>1:\n",
    "        w.warn('Alpha can not be more than 1')\n",
    "        #alpha = 1\n",
    "        return forecast\n",
    "    if alpha<0:\n",
    "        w.warn('Alpha can not be less than 0')\n",
    "        #alpha = 0\n",
    "        return forecast\n",
    "    if beta>1:\n",
    "        w.warn('beta can not be more than 1')\n",
    "        #beta = 1\n",
    "        return forecast\n",
    "    if beta<0:\n",
    "        w.warn('beta can not be less than 0')\n",
    "        #beta = 0\n",
    "        return forecast\n",
    "\n",
    "    # initialization\n",
    "    l= np.NaN\n",
    "    b= np.NaN\n",
    "    t0 = 0\n",
    "\n",
    "    # forecast all ts step-by-step\n",
    "    for t in range(T):\n",
    "        if not math.isnan(x.iloc[t]):\n",
    "            if math.isnan(l):\n",
    "                l = x.iloc[t]\n",
    "                b = x.iloc[t+1]-x.iloc[t]\n",
    "                # t0 = np.NaN\n",
    "\n",
    "            l_prev = l\n",
    "\n",
    "            # initialization using Adaptation period approach\n",
    "            if (t-t0+1)<AdaptationPeriod:\n",
    "                l = (1-(1-alpha)*(t-t0+1)/(AdaptationPeriod))* x.iloc[t] + (1-alpha)*(t-t0+1)/(AdaptationPeriod)*(l+b)\n",
    "                b = (1-beta)*(t-t0+1)/(AdaptationPeriod)*(l - l_prev) + (1-alpha)*(t-t0+1)/(AdaptationPeriod)*b\n",
    "            else:\n",
    "              l = alpha* x.iloc[t] + (1-alpha)*(l+b)\n",
    "              b = beta* (l - l_prev) + (1- beta)*b\n",
    "\n",
    "                # b = beta* (x.iloc[t] - l_prev) + (1- beta)*b # alternative\n",
    "                #  b = beta* (x.iloc[t] - x.iloc[t-1]) + (1- beta)*b\n",
    "        # L[t] = l\n",
    "        # B[t] = b\n",
    "        forecast.iloc[t+h] = l+ b*h\n",
    "    return forecast #, L, B"
   ]
  },
  {
   "cell_type": "code",
   "execution_count": 6,
   "metadata": {
    "id": "jv_b1dmCFRHC"
   },
   "outputs": [],
   "source": [
    "def mybuild_forecast(h, ts, alg_name, alg_title, params, step=None):\n",
    "  'grid'\n",
    "\n",
    "  FRC_TS = dict()\n",
    "\n",
    "  for p in params:\n",
    "      frc_ts = pd.DataFrame(columns = ts.columns)\n",
    "\n",
    "      for cntr in ts.columns:\n",
    "          frc_ts[cntr] = eval(alg_name)(ts[cntr], h, p, step)\n",
    "\n",
    "#         frc_ts.columns = frc_ts.columns+('%s %s' % (alg_title, p))\n",
    "      FRC_TS['%s %s' % (alg_title, p)] = frc_ts\n",
    "\n",
    "  return FRC_TS"
   ]
  },
  {
   "cell_type": "code",
   "execution_count": 7,
   "metadata": {
    "colab": {
     "base_uri": "https://localhost:8080/",
     "height": 421
    },
    "id": "PG2HNUgD1Xwp",
    "outputId": "ea86c030-b199-404b-de90-e62489a6894c"
   },
   "outputs": [
    {
     "ename": "AttributeError",
     "evalue": "`np.NaN` was removed in the NumPy 2.0 release. Use `np.nan` instead.",
     "output_type": "error",
     "traceback": [
      "\u001b[1;31m---------------------------------------------------------------------------\u001b[0m",
      "\u001b[1;31mAttributeError\u001b[0m                            Traceback (most recent call last)",
      "Cell \u001b[1;32mIn[7], line 6\u001b[0m\n\u001b[0;32m      3\u001b[0m BETA \u001b[38;5;241m=\u001b[39m np\u001b[38;5;241m.\u001b[39mlinspace(\u001b[38;5;241m0.0001\u001b[39m,\u001b[38;5;241m0.001\u001b[39m,\u001b[38;5;241m10\u001b[39m)\n\u001b[0;32m      5\u001b[0m holt_params \u001b[38;5;241m=\u001b[39m [{\u001b[38;5;124m'\u001b[39m\u001b[38;5;124malpha\u001b[39m\u001b[38;5;124m'\u001b[39m:alpha, \u001b[38;5;124m'\u001b[39m\u001b[38;5;124mbeta\u001b[39m\u001b[38;5;124m'\u001b[39m:beta, \u001b[38;5;124m'\u001b[39m\u001b[38;5;124mAdaptationPeriod\u001b[39m\u001b[38;5;124m'\u001b[39m:\u001b[38;5;241m10\u001b[39m} \u001b[38;5;28;01mfor\u001b[39;00m alpha \u001b[38;5;129;01min\u001b[39;00m ALPHA \u001b[38;5;28;01mfor\u001b[39;00m beta \u001b[38;5;129;01min\u001b[39;00m BETA]\n\u001b[1;32m----> 6\u001b[0m FRC_WAGE_YEAR \u001b[38;5;241m=\u001b[39m \u001b[43mmybuild_forecast\u001b[49m\u001b[43m(\u001b[49m\u001b[43mh\u001b[49m\u001b[38;5;241;43m=\u001b[39;49m\u001b[38;5;241;43m1\u001b[39;49m\u001b[43m,\u001b[49m\u001b[43m \u001b[49m\u001b[43mts\u001b[49m\u001b[38;5;241;43m=\u001b[39;49m\u001b[43mwage_year\u001b[49m\u001b[43m,\u001b[49m\u001b[43m \u001b[49m\u001b[43malg_name\u001b[49m\u001b[43m \u001b[49m\u001b[38;5;241;43m=\u001b[39;49m\u001b[43m  \u001b[49m\u001b[38;5;124;43m'\u001b[39;49m\u001b[38;5;124;43mmyHoltExponentialSmoothing\u001b[39;49m\u001b[38;5;124;43m'\u001b[39;49m\u001b[43m,\u001b[49m\u001b[43m \u001b[49m\u001b[43malg_title\u001b[49m\u001b[38;5;241;43m=\u001b[39;49m\u001b[38;5;124;43m'\u001b[39;49m\u001b[38;5;124;43mHolt\u001b[39;49m\u001b[38;5;124;43m'\u001b[39;49m\n\u001b[0;32m      7\u001b[0m \u001b[43m                              \u001b[49m\u001b[43m,\u001b[49m\u001b[43mparams\u001b[49m\u001b[43m \u001b[49m\u001b[38;5;241;43m=\u001b[39;49m\u001b[43m \u001b[49m\u001b[43mholt_params\u001b[49m\u001b[43m,\u001b[49m\u001b[43m \u001b[49m\u001b[43mstep\u001b[49m\u001b[38;5;241;43m=\u001b[39;49m\u001b[38;5;124;43m'\u001b[39;49m\u001b[38;5;124;43m12MS\u001b[39;49m\u001b[38;5;124;43m'\u001b[39;49m\u001b[43m)\u001b[49m\n\u001b[0;32m      9\u001b[0m \u001b[38;5;66;03m# forecast accuracy\u001b[39;00m\n\u001b[0;32m     10\u001b[0m qlt_holt \u001b[38;5;241m=\u001b[39m pd\u001b[38;5;241m.\u001b[39mDataFrame(index \u001b[38;5;241m=\u001b[39m wage_year\u001b[38;5;241m.\u001b[39mcolumns, columns \u001b[38;5;241m=\u001b[39m FRC_WAGE_YEAR\u001b[38;5;241m.\u001b[39mkeys())\n",
      "Cell \u001b[1;32mIn[6], line 10\u001b[0m, in \u001b[0;36mmybuild_forecast\u001b[1;34m(h, ts, alg_name, alg_title, params, step)\u001b[0m\n\u001b[0;32m      7\u001b[0m       frc_ts \u001b[38;5;241m=\u001b[39m pd\u001b[38;5;241m.\u001b[39mDataFrame(columns \u001b[38;5;241m=\u001b[39m ts\u001b[38;5;241m.\u001b[39mcolumns)\n\u001b[0;32m      9\u001b[0m       \u001b[38;5;28;01mfor\u001b[39;00m cntr \u001b[38;5;129;01min\u001b[39;00m ts\u001b[38;5;241m.\u001b[39mcolumns:\n\u001b[1;32m---> 10\u001b[0m           frc_ts[cntr] \u001b[38;5;241m=\u001b[39m \u001b[38;5;28;43meval\u001b[39;49m\u001b[43m(\u001b[49m\u001b[43malg_name\u001b[49m\u001b[43m)\u001b[49m\u001b[43m(\u001b[49m\u001b[43mts\u001b[49m\u001b[43m[\u001b[49m\u001b[43mcntr\u001b[49m\u001b[43m]\u001b[49m\u001b[43m,\u001b[49m\u001b[43m \u001b[49m\u001b[43mh\u001b[49m\u001b[43m,\u001b[49m\u001b[43m \u001b[49m\u001b[43mp\u001b[49m\u001b[43m,\u001b[49m\u001b[43m \u001b[49m\u001b[43mstep\u001b[49m\u001b[43m)\u001b[49m\n\u001b[0;32m     12\u001b[0m \u001b[38;5;66;03m#         frc_ts.columns = frc_ts.columns+('%s %s' % (alg_title, p))\u001b[39;00m\n\u001b[0;32m     13\u001b[0m       FRC_TS[\u001b[38;5;124m'\u001b[39m\u001b[38;5;132;01m%s\u001b[39;00m\u001b[38;5;124m \u001b[39m\u001b[38;5;132;01m%s\u001b[39;00m\u001b[38;5;124m'\u001b[39m \u001b[38;5;241m%\u001b[39m (alg_title, p)] \u001b[38;5;241m=\u001b[39m frc_ts\n",
      "Cell \u001b[1;32mIn[5], line 41\u001b[0m, in \u001b[0;36mmyHoltExponentialSmoothing\u001b[1;34m(x, h, params, freq)\u001b[0m\n\u001b[0;32m     38\u001b[0m     \u001b[38;5;28;01mreturn\u001b[39;00m forecast\n\u001b[0;32m     40\u001b[0m \u001b[38;5;66;03m# initialization\u001b[39;00m\n\u001b[1;32m---> 41\u001b[0m l\u001b[38;5;241m=\u001b[39m \u001b[43mnp\u001b[49m\u001b[38;5;241;43m.\u001b[39;49m\u001b[43mNaN\u001b[49m\n\u001b[0;32m     42\u001b[0m b\u001b[38;5;241m=\u001b[39m np\u001b[38;5;241m.\u001b[39mNaN\n\u001b[0;32m     43\u001b[0m t0 \u001b[38;5;241m=\u001b[39m \u001b[38;5;241m0\u001b[39m\n",
      "File \u001b[1;32mc:\\Users\\Admin\\AppData\\Local\\Programs\\Python\\Python312\\Lib\\site-packages\\numpy\\__init__.py:411\u001b[0m, in \u001b[0;36m__getattr__\u001b[1;34m(attr)\u001b[0m\n\u001b[0;32m    408\u001b[0m     \u001b[38;5;28;01mraise\u001b[39;00m \u001b[38;5;167;01mAttributeError\u001b[39;00m(__former_attrs__[attr])\n\u001b[0;32m    410\u001b[0m \u001b[38;5;28;01mif\u001b[39;00m attr \u001b[38;5;129;01min\u001b[39;00m __expired_attributes__:\n\u001b[1;32m--> 411\u001b[0m     \u001b[38;5;28;01mraise\u001b[39;00m \u001b[38;5;167;01mAttributeError\u001b[39;00m(\n\u001b[0;32m    412\u001b[0m         \u001b[38;5;124mf\u001b[39m\u001b[38;5;124m\"\u001b[39m\u001b[38;5;124m`np.\u001b[39m\u001b[38;5;132;01m{\u001b[39;00mattr\u001b[38;5;132;01m}\u001b[39;00m\u001b[38;5;124m` was removed in the NumPy 2.0 release. \u001b[39m\u001b[38;5;124m\"\u001b[39m\n\u001b[0;32m    413\u001b[0m         \u001b[38;5;124mf\u001b[39m\u001b[38;5;124m\"\u001b[39m\u001b[38;5;132;01m{\u001b[39;00m__expired_attributes__[attr]\u001b[38;5;132;01m}\u001b[39;00m\u001b[38;5;124m\"\u001b[39m\n\u001b[0;32m    414\u001b[0m     )\n\u001b[0;32m    416\u001b[0m \u001b[38;5;28;01mif\u001b[39;00m attr \u001b[38;5;241m==\u001b[39m \u001b[38;5;124m\"\u001b[39m\u001b[38;5;124mchararray\u001b[39m\u001b[38;5;124m\"\u001b[39m:\n\u001b[0;32m    417\u001b[0m     warnings\u001b[38;5;241m.\u001b[39mwarn(\n\u001b[0;32m    418\u001b[0m         \u001b[38;5;124m\"\u001b[39m\u001b[38;5;124m`np.chararray` is deprecated and will be removed from \u001b[39m\u001b[38;5;124m\"\u001b[39m\n\u001b[0;32m    419\u001b[0m         \u001b[38;5;124m\"\u001b[39m\u001b[38;5;124mthe main namespace in the future. Use an array with a string \u001b[39m\u001b[38;5;124m\"\u001b[39m\n\u001b[0;32m    420\u001b[0m         \u001b[38;5;124m\"\u001b[39m\u001b[38;5;124mor bytes dtype instead.\u001b[39m\u001b[38;5;124m\"\u001b[39m, \u001b[38;5;167;01mDeprecationWarning\u001b[39;00m, stacklevel\u001b[38;5;241m=\u001b[39m\u001b[38;5;241m2\u001b[39m)\n",
      "\u001b[1;31mAttributeError\u001b[0m: `np.NaN` was removed in the NumPy 2.0 release. Use `np.nan` instead."
     ]
    }
   ],
   "source": [
    "# SES Forecast for monthly agregated data\n",
    "ALPHA = np.linspace(0.9,1,10)\n",
    "BETA = np.linspace(0.0001,0.001,10)\n",
    "\n",
    "holt_params = [{'alpha':alpha, 'beta':beta, 'AdaptationPeriod':10} for alpha in ALPHA for beta in BETA]\n",
    "FRC_WAGE_YEAR = mybuild_forecast(h=1, ts=wage_year, alg_name =  'myHoltExponentialSmoothing', alg_title='Holt'\n",
    "                              ,params = holt_params, step='12MS')\n",
    "\n",
    "# forecast accuracy\n",
    "qlt_holt = pd.DataFrame(index = wage_year.columns, columns = FRC_WAGE_YEAR.keys())\n",
    "\n",
    "ix = wage_year.loc['2000-01':'2018-01'].index\n",
    "for param_cntr in sorted(qlt_holt.columns):\n",
    "    frc_wage = FRC_WAGE_YEAR[param_cntr]\n",
    "    qlt_holt[param_cntr],_ = qualityMAPE(wage_year.loc[ix], frc_wage.loc[ix])\n",
    "\n",
    "# # Draw forecast of the best SES algorithm\n",
    "alg_name = qlt_holt[qlt_holt.columns].mean().sort_values().index[0]\n",
    "plot_ts_forecast(wage_year, FRC_WAGE_YEAR[alg_name] #.loc['1999-01-01':'2018-01-01']\n",
    "               , ts_num=0, alg_title=alg_name)\n",
    "\n",
    "print('MAPE: %s' % qualityMAPE(wage_year.loc[test_period_start:test_period_end], FRC_WAGE_YEAR[alg_name].loc[test_period_start:test_period_end])[0])"
   ]
  },
  {
   "cell_type": "code",
   "execution_count": 8,
   "metadata": {
    "colab": {
     "base_uri": "https://localhost:8080/",
     "height": 394
    },
    "id": "4Av_aDLOFFd1",
    "outputId": "82209bee-93d5-47b1-fa93-35bcc2dc89f4"
   },
   "outputs": [
    {
     "ename": "NameError",
     "evalue": "name 'qlt_holt' is not defined",
     "output_type": "error",
     "traceback": [
      "\u001b[1;31m---------------------------------------------------------------------------\u001b[0m",
      "\u001b[1;31mNameError\u001b[0m                                 Traceback (most recent call last)",
      "Cell \u001b[1;32mIn[8], line 2\u001b[0m\n\u001b[0;32m      1\u001b[0m \u001b[38;5;66;03m# Find the best model\u001b[39;00m\n\u001b[1;32m----> 2\u001b[0m \u001b[43mqlt_holt\u001b[49m\u001b[38;5;241m.\u001b[39mtranspose()\u001b[38;5;241m.\u001b[39msort_values(by \u001b[38;5;241m=\u001b[39m \u001b[38;5;124m'\u001b[39m\u001b[38;5;124mReal wage\u001b[39m\u001b[38;5;124m'\u001b[39m)[:\u001b[38;5;241m11\u001b[39m]\n",
      "\u001b[1;31mNameError\u001b[0m: name 'qlt_holt' is not defined"
     ]
    }
   ],
   "source": [
    "# Find the best model\n",
    "qlt_holt.transpose().sort_values(by = 'Real wage')[:11]"
   ]
  },
  {
   "cell_type": "markdown",
   "metadata": {
    "id": "dpF_TRzkYCZV"
   },
   "source": [
    "## Winters Model"
   ]
  },
  {
   "cell_type": "code",
   "execution_count": 9,
   "metadata": {
    "colab": {
     "base_uri": "https://localhost:8080/",
     "height": 238
    },
    "id": "XL2752jadwUn",
    "outputId": "14817b8e-4549-4e85-a151-ff4f8a980200"
   },
   "outputs": [
    {
     "data": {
      "text/html": [
       "<div>\n",
       "<style scoped>\n",
       "    .dataframe tbody tr th:only-of-type {\n",
       "        vertical-align: middle;\n",
       "    }\n",
       "\n",
       "    .dataframe tbody tr th {\n",
       "        vertical-align: top;\n",
       "    }\n",
       "\n",
       "    .dataframe thead th {\n",
       "        text-align: right;\n",
       "    }\n",
       "</style>\n",
       "<table border=\"1\" class=\"dataframe\">\n",
       "  <thead>\n",
       "    <tr style=\"text-align: right;\">\n",
       "      <th></th>\n",
       "      <th>Item1</th>\n",
       "      <th>Item2</th>\n",
       "      <th>Item3</th>\n",
       "      <th>Item4</th>\n",
       "      <th>Item5</th>\n",
       "      <th>Item6</th>\n",
       "      <th>Item7</th>\n",
       "      <th>Item8</th>\n",
       "      <th>Item9</th>\n",
       "      <th>Item10</th>\n",
       "    </tr>\n",
       "    <tr>\n",
       "      <th>Timestamp</th>\n",
       "      <th></th>\n",
       "      <th></th>\n",
       "      <th></th>\n",
       "      <th></th>\n",
       "      <th></th>\n",
       "      <th></th>\n",
       "      <th></th>\n",
       "      <th></th>\n",
       "      <th></th>\n",
       "      <th></th>\n",
       "    </tr>\n",
       "  </thead>\n",
       "  <tbody>\n",
       "    <tr>\n",
       "      <th>2006-01-01</th>\n",
       "      <td>0</td>\n",
       "      <td>49</td>\n",
       "      <td>64</td>\n",
       "      <td>70.468</td>\n",
       "      <td>0</td>\n",
       "      <td>45.182</td>\n",
       "      <td>71</td>\n",
       "      <td>21.664</td>\n",
       "      <td>138</td>\n",
       "      <td>0</td>\n",
       "    </tr>\n",
       "    <tr>\n",
       "      <th>2006-01-02</th>\n",
       "      <td>0</td>\n",
       "      <td>56</td>\n",
       "      <td>60</td>\n",
       "      <td>57.368</td>\n",
       "      <td>0</td>\n",
       "      <td>39.506</td>\n",
       "      <td>27</td>\n",
       "      <td>19.664</td>\n",
       "      <td>76</td>\n",
       "      <td>6</td>\n",
       "    </tr>\n",
       "    <tr>\n",
       "      <th>2006-01-03</th>\n",
       "      <td>0</td>\n",
       "      <td>61</td>\n",
       "      <td>71</td>\n",
       "      <td>34.350</td>\n",
       "      <td>0</td>\n",
       "      <td>28.064</td>\n",
       "      <td>10</td>\n",
       "      <td>10.402</td>\n",
       "      <td>152</td>\n",
       "      <td>12</td>\n",
       "    </tr>\n",
       "    <tr>\n",
       "      <th>2006-01-04</th>\n",
       "      <td>0</td>\n",
       "      <td>32</td>\n",
       "      <td>59</td>\n",
       "      <td>40.186</td>\n",
       "      <td>0</td>\n",
       "      <td>40.256</td>\n",
       "      <td>27</td>\n",
       "      <td>9.938</td>\n",
       "      <td>67</td>\n",
       "      <td>12</td>\n",
       "    </tr>\n",
       "    <tr>\n",
       "      <th>2006-01-05</th>\n",
       "      <td>0</td>\n",
       "      <td>45</td>\n",
       "      <td>61</td>\n",
       "      <td>28.914</td>\n",
       "      <td>0</td>\n",
       "      <td>35.784</td>\n",
       "      <td>27</td>\n",
       "      <td>16.672</td>\n",
       "      <td>49</td>\n",
       "      <td>24</td>\n",
       "    </tr>\n",
       "  </tbody>\n",
       "</table>\n",
       "</div>"
      ],
      "text/plain": [
       "            Item1  Item2  Item3   Item4  Item5   Item6  Item7   Item8  Item9  \\\n",
       "Timestamp                                                                      \n",
       "2006-01-01      0     49     64  70.468      0  45.182     71  21.664    138   \n",
       "2006-01-02      0     56     60  57.368      0  39.506     27  19.664     76   \n",
       "2006-01-03      0     61     71  34.350      0  28.064     10  10.402    152   \n",
       "2006-01-04      0     32     59  40.186      0  40.256     27   9.938     67   \n",
       "2006-01-05      0     45     61  28.914      0  35.784     27  16.672     49   \n",
       "\n",
       "            Item10  \n",
       "Timestamp           \n",
       "2006-01-01       0  \n",
       "2006-01-02       6  \n",
       "2006-01-03      12  \n",
       "2006-01-04      12  \n",
       "2006-01-05      24  "
      ]
     },
     "execution_count": 9,
     "metadata": {},
     "output_type": "execute_result"
    }
   ],
   "source": [
    "ts = pd.read_csv('https://raw.githubusercontent.com/aromanenko/ATSF/main/data/seasonal_ts.csv', parse_dates=['Dates'], sep=';', dayfirst=True, index_col='Dates')\n",
    "ts.index = pd.to_datetime(ts.index)\n",
    "ts.index.names=['Timestamp']\n",
    "ts = ts.sort_index() # sort index\n",
    "ts.head()"
   ]
  },
  {
   "cell_type": "code",
   "execution_count": 10,
   "metadata": {
    "colab": {
     "base_uri": "https://localhost:8080/",
     "height": 238
    },
    "id": "mMR8BzpWdwUt",
    "outputId": "5432cf3c-1daf-4aab-e011-3e940c857465"
   },
   "outputs": [
    {
     "data": {
      "text/html": [
       "<div>\n",
       "<style scoped>\n",
       "    .dataframe tbody tr th:only-of-type {\n",
       "        vertical-align: middle;\n",
       "    }\n",
       "\n",
       "    .dataframe tbody tr th {\n",
       "        vertical-align: top;\n",
       "    }\n",
       "\n",
       "    .dataframe thead th {\n",
       "        text-align: right;\n",
       "    }\n",
       "</style>\n",
       "<table border=\"1\" class=\"dataframe\">\n",
       "  <thead>\n",
       "    <tr style=\"text-align: right;\">\n",
       "      <th></th>\n",
       "      <th>Item1</th>\n",
       "      <th>Item2</th>\n",
       "      <th>Item3</th>\n",
       "      <th>Item4</th>\n",
       "      <th>Item5</th>\n",
       "      <th>Item6</th>\n",
       "      <th>Item7</th>\n",
       "      <th>Item8</th>\n",
       "      <th>Item9</th>\n",
       "      <th>Item10</th>\n",
       "    </tr>\n",
       "    <tr>\n",
       "      <th>Timestamp</th>\n",
       "      <th></th>\n",
       "      <th></th>\n",
       "      <th></th>\n",
       "      <th></th>\n",
       "      <th></th>\n",
       "      <th></th>\n",
       "      <th></th>\n",
       "      <th></th>\n",
       "      <th></th>\n",
       "      <th></th>\n",
       "    </tr>\n",
       "  </thead>\n",
       "  <tbody>\n",
       "    <tr>\n",
       "      <th>2007-01-01</th>\n",
       "      <td>156</td>\n",
       "      <td>135</td>\n",
       "      <td>64</td>\n",
       "      <td>95.925</td>\n",
       "      <td>68</td>\n",
       "      <td>57.934</td>\n",
       "      <td>30</td>\n",
       "      <td>28.854</td>\n",
       "      <td>19</td>\n",
       "      <td>0</td>\n",
       "    </tr>\n",
       "    <tr>\n",
       "      <th>2007-01-02</th>\n",
       "      <td>138</td>\n",
       "      <td>117</td>\n",
       "      <td>62</td>\n",
       "      <td>43.775</td>\n",
       "      <td>63</td>\n",
       "      <td>52.693</td>\n",
       "      <td>19</td>\n",
       "      <td>24.478</td>\n",
       "      <td>14</td>\n",
       "      <td>18</td>\n",
       "    </tr>\n",
       "    <tr>\n",
       "      <th>2007-01-03</th>\n",
       "      <td>148</td>\n",
       "      <td>98</td>\n",
       "      <td>67</td>\n",
       "      <td>50.750</td>\n",
       "      <td>57</td>\n",
       "      <td>43.406</td>\n",
       "      <td>15</td>\n",
       "      <td>15.704</td>\n",
       "      <td>18</td>\n",
       "      <td>6</td>\n",
       "    </tr>\n",
       "    <tr>\n",
       "      <th>2007-01-04</th>\n",
       "      <td>147</td>\n",
       "      <td>86</td>\n",
       "      <td>67</td>\n",
       "      <td>54.020</td>\n",
       "      <td>47</td>\n",
       "      <td>53.018</td>\n",
       "      <td>9</td>\n",
       "      <td>21.846</td>\n",
       "      <td>15</td>\n",
       "      <td>6</td>\n",
       "    </tr>\n",
       "    <tr>\n",
       "      <th>2007-01-05</th>\n",
       "      <td>146</td>\n",
       "      <td>124</td>\n",
       "      <td>71</td>\n",
       "      <td>50.400</td>\n",
       "      <td>59</td>\n",
       "      <td>74.212</td>\n",
       "      <td>15</td>\n",
       "      <td>33.082</td>\n",
       "      <td>2</td>\n",
       "      <td>12</td>\n",
       "    </tr>\n",
       "  </tbody>\n",
       "</table>\n",
       "</div>"
      ],
      "text/plain": [
       "            Item1  Item2  Item3   Item4  Item5   Item6  Item7   Item8  Item9  \\\n",
       "Timestamp                                                                      \n",
       "2007-01-01    156    135     64  95.925     68  57.934     30  28.854     19   \n",
       "2007-01-02    138    117     62  43.775     63  52.693     19  24.478     14   \n",
       "2007-01-03    148     98     67  50.750     57  43.406     15  15.704     18   \n",
       "2007-01-04    147     86     67  54.020     47  53.018      9  21.846     15   \n",
       "2007-01-05    146    124     71  50.400     59  74.212     15  33.082      2   \n",
       "\n",
       "            Item10  \n",
       "Timestamp           \n",
       "2007-01-01       0  \n",
       "2007-01-02      18  \n",
       "2007-01-03       6  \n",
       "2007-01-04       6  \n",
       "2007-01-05      12  "
      ]
     },
     "execution_count": 10,
     "metadata": {},
     "output_type": "execute_result"
    }
   ],
   "source": [
    "# Interval of ts\n",
    "ts.loc['2007-01-01':'2007-01-05']"
   ]
  },
  {
   "cell_type": "code",
   "execution_count": 11,
   "metadata": {
    "colab": {
     "base_uri": "https://localhost:8080/",
     "height": 387
    },
    "id": "qKKimc5ndwUv",
    "outputId": "000acdab-dda2-4f71-944c-09019912acc9"
   },
   "outputs": [
    {
     "ename": "ValueError",
     "evalue": "Mime type rendering requires nbformat>=4.2.0 but it is not installed",
     "output_type": "error",
     "traceback": [
      "\u001b[1;31m---------------------------------------------------------------------------\u001b[0m",
      "\u001b[1;31mValueError\u001b[0m                                Traceback (most recent call last)",
      "Cell \u001b[1;32mIn[11], line 2\u001b[0m\n\u001b[0;32m      1\u001b[0m \u001b[38;5;66;03m# fig = plt.figure()\u001b[39;00m\n\u001b[1;32m----> 2\u001b[0m \u001b[43mts\u001b[49m\u001b[38;5;241;43m.\u001b[39;49m\u001b[43mloc\u001b[49m\u001b[43m[\u001b[49m\u001b[38;5;124;43m'\u001b[39;49m\u001b[38;5;124;43m2005-07-01\u001b[39;49m\u001b[38;5;124;43m'\u001b[39;49m\u001b[43m:\u001b[49m\u001b[38;5;124;43m'\u001b[39;49m\u001b[38;5;124;43m2007-12-31\u001b[39;49m\u001b[38;5;124;43m'\u001b[39;49m\u001b[43m,\u001b[49m\u001b[43m \u001b[49m\u001b[43mts\u001b[49m\u001b[38;5;241;43m.\u001b[39;49m\u001b[43mcolumns\u001b[49m\u001b[43m[\u001b[49m\u001b[38;5;28;43mrange\u001b[39;49m\u001b[43m(\u001b[49m\u001b[38;5;241;43m3\u001b[39;49m\u001b[43m)\u001b[49m\u001b[43m]\u001b[49m\u001b[43m]\u001b[49m\u001b[38;5;241;43m.\u001b[39;49m\u001b[43mplot\u001b[49m\u001b[43m(\u001b[49m\u001b[43m)\u001b[49m\u001b[38;5;241;43m.\u001b[39;49m\u001b[43mupdate_layout\u001b[49m\u001b[43m(\u001b[49m\u001b[43mheight\u001b[49m\u001b[38;5;241;43m=\u001b[39;49m\u001b[38;5;241;43m350\u001b[39;49m\u001b[43m,\u001b[49m\u001b[43m \u001b[49m\u001b[43mwidth\u001b[49m\u001b[38;5;241;43m=\u001b[39;49m\u001b[38;5;241;43m1350\u001b[39;49m\u001b[43m)\u001b[49m\u001b[38;5;241;43m.\u001b[39;49m\u001b[43mshow\u001b[49m\u001b[43m(\u001b[49m\u001b[43m)\u001b[49m\n\u001b[0;32m      3\u001b[0m \u001b[38;5;66;03m# to save the pictures\u001b[39;00m\n\u001b[0;32m      4\u001b[0m \u001b[38;5;66;03m# plt.savefig('../Lecture_TS_Forecasting/pic/TS_Example.eps', bbox_inches='tight', pad_inches=0, format='eps', dpi=1000)\u001b[39;00m\n",
      "File \u001b[1;32mc:\\Users\\Admin\\AppData\\Local\\Programs\\Python\\Python312\\Lib\\site-packages\\plotly\\basedatatypes.py:3410\u001b[0m, in \u001b[0;36mBaseFigure.show\u001b[1;34m(self, *args, **kwargs)\u001b[0m\n\u001b[0;32m   3377\u001b[0m \u001b[38;5;250m\u001b[39m\u001b[38;5;124;03m\"\"\"\u001b[39;00m\n\u001b[0;32m   3378\u001b[0m \u001b[38;5;124;03mShow a figure using either the default renderer(s) or the renderer(s)\u001b[39;00m\n\u001b[0;32m   3379\u001b[0m \u001b[38;5;124;03mspecified by the renderer argument\u001b[39;00m\n\u001b[1;32m   (...)\u001b[0m\n\u001b[0;32m   3406\u001b[0m \u001b[38;5;124;03mNone\u001b[39;00m\n\u001b[0;32m   3407\u001b[0m \u001b[38;5;124;03m\"\"\"\u001b[39;00m\n\u001b[0;32m   3408\u001b[0m \u001b[38;5;28;01mimport\u001b[39;00m \u001b[38;5;21;01mplotly\u001b[39;00m\u001b[38;5;21;01m.\u001b[39;00m\u001b[38;5;21;01mio\u001b[39;00m \u001b[38;5;28;01mas\u001b[39;00m \u001b[38;5;21;01mpio\u001b[39;00m\n\u001b[1;32m-> 3410\u001b[0m \u001b[38;5;28;01mreturn\u001b[39;00m \u001b[43mpio\u001b[49m\u001b[38;5;241;43m.\u001b[39;49m\u001b[43mshow\u001b[49m\u001b[43m(\u001b[49m\u001b[38;5;28;43mself\u001b[39;49m\u001b[43m,\u001b[49m\u001b[43m \u001b[49m\u001b[38;5;241;43m*\u001b[39;49m\u001b[43margs\u001b[49m\u001b[43m,\u001b[49m\u001b[43m \u001b[49m\u001b[38;5;241;43m*\u001b[39;49m\u001b[38;5;241;43m*\u001b[39;49m\u001b[43mkwargs\u001b[49m\u001b[43m)\u001b[49m\n",
      "File \u001b[1;32mc:\\Users\\Admin\\AppData\\Local\\Programs\\Python\\Python312\\Lib\\site-packages\\plotly\\io\\_renderers.py:394\u001b[0m, in \u001b[0;36mshow\u001b[1;34m(fig, renderer, validate, **kwargs)\u001b[0m\n\u001b[0;32m    389\u001b[0m         \u001b[38;5;28;01mraise\u001b[39;00m \u001b[38;5;167;01mValueError\u001b[39;00m(\n\u001b[0;32m    390\u001b[0m             \u001b[38;5;124m\"\u001b[39m\u001b[38;5;124mMime type rendering requires ipython but it is not installed\u001b[39m\u001b[38;5;124m\"\u001b[39m\n\u001b[0;32m    391\u001b[0m         )\n\u001b[0;32m    393\u001b[0m     \u001b[38;5;28;01mif\u001b[39;00m \u001b[38;5;129;01mnot\u001b[39;00m nbformat \u001b[38;5;129;01mor\u001b[39;00m Version(nbformat\u001b[38;5;241m.\u001b[39m__version__) \u001b[38;5;241m<\u001b[39m Version(\u001b[38;5;124m\"\u001b[39m\u001b[38;5;124m4.2.0\u001b[39m\u001b[38;5;124m\"\u001b[39m):\n\u001b[1;32m--> 394\u001b[0m         \u001b[38;5;28;01mraise\u001b[39;00m \u001b[38;5;167;01mValueError\u001b[39;00m(\n\u001b[0;32m    395\u001b[0m             \u001b[38;5;124m\"\u001b[39m\u001b[38;5;124mMime type rendering requires nbformat>=4.2.0 but it is not installed\u001b[39m\u001b[38;5;124m\"\u001b[39m\n\u001b[0;32m    396\u001b[0m         )\n\u001b[0;32m    398\u001b[0m     ipython_display\u001b[38;5;241m.\u001b[39mdisplay(bundle, raw\u001b[38;5;241m=\u001b[39m\u001b[38;5;28;01mTrue\u001b[39;00m)\n\u001b[0;32m    400\u001b[0m \u001b[38;5;66;03m# external renderers\u001b[39;00m\n",
      "\u001b[1;31mValueError\u001b[0m: Mime type rendering requires nbformat>=4.2.0 but it is not installed"
     ]
    }
   ],
   "source": [
    "# fig = plt.figure()\n",
    "ts.loc['2005-07-01':'2007-12-31', ts.columns[range(3)]].plot().update_layout(height=350, width=1350).show()\n",
    "# to save the pictures\n",
    "# plt.savefig('../Lecture_TS_Forecasting/pic/TS_Example.eps', bbox_inches='tight', pad_inches=0, format='eps', dpi=1000)"
   ]
  },
  {
   "cell_type": "markdown",
   "metadata": {
    "id": "oK_7wRyysaMG"
   },
   "source": [
    "**Questions**\n",
    "\n",
    " - What are key aspects of these retail ts?\n",
    " - How to change SES model to consider seasonlaity in original data?"
   ]
  },
  {
   "cell_type": "markdown",
   "metadata": {
    "id": "7A1hNtY57nvZ"
   },
   "source": [
    "**Additive Winters Model = Additive Seasonality**\n",
    "\n",
    "Time Series model\n",
    "$$y_t = l_t + s_{t}+\\varepsilon_t$$\n",
    "where $s_t$ - is a seasonal component of period $p$\n",
    "\n",
    "Forecasting Model\n",
    "$$\\hat{y}_{t+d} = \\hat l_t +  \\hat s_{t+(d\\mod p) - p}; \\\\\n",
    "\t\t\\hat l_{t}       \t=  \\alpha \\left(y_t - \\hat s_{t-p}\\right)+ \\left(1-\\alpha\\right) \\left(\\hat l_{t-1}\\right)=\\color{red}{\\hat l_{t-1} + \\alpha e_t}; \\\\\n",
    "\t\t\\hat s_t         \t= \\gamma\\left(y_t- \\hat l_{t}\\right) + \\left(1-\\gamma\\right)\\hat s_{t-p} = \\color{red}{\\hat s_{t-p} + \\gamma(1-\\alpha)e_t}.\n",
    "\t\t$$"
   ]
  },
  {
   "cell_type": "code",
   "execution_count": 12,
   "metadata": {
    "id": "Oi_fFNfU7SP4"
   },
   "outputs": [],
   "source": [
    "\n",
    "###################### Additive Winters Exponential Smoothing #########################\n",
    "# x <array Tx1>- time series,\n",
    "# h <scalar> - forecasting delay\n",
    "# Params <dict> - dictionary with\n",
    "#    alpha <scalar in [0,1]> - level smoothing parameter\n",
    "#    gamma <scalar in [0,1]> - seasonality smoothing parameter\n",
    "\n",
    "def myAdditiveWintersExponentialSmoothing(x, h, params, freq = None):\n",
    "    T = len(x)\n",
    "    alpha = params['alpha']\n",
    "    gamma = params['gamma']\n",
    "    p = params['seasonality_period']\n",
    "\n",
    "    # retrieve date frequency in ts\n",
    "    if freq is None:\n",
    "      freq = pd.infer_freq(x.index)\n",
    "\n",
    "    # prepare Forecast pd.Series to put forecasted values in it\n",
    "    forecast = pd.Series(index = x.index.append(pd.date_range(x.index[-1], periods=h+1, freq=freq)[1:]), name = 'fcst '+x.name)\n",
    "\n",
    "    l= np.NaN\n",
    "    s= []\n",
    "\n",
    "    for cntr in range(T):\n",
    "        if not math.isnan(x.iloc[cntr]):\n",
    "            if math.isnan(l):\n",
    "                l= x.iloc[cntr]\n",
    "            if len(s)==0:\n",
    "                # looking in the future\n",
    "                for i in range(p):\n",
    "                    s.append(x.iloc[i])\n",
    "            if cntr<p:\n",
    "                l = alpha*(x.iloc[cntr]-s[cntr])+(1-alpha)*l # recurrent smoothing of level\n",
    "            else:\n",
    "                l = alpha*(x.iloc[cntr]-s[cntr-p])+(1-alpha)*l # recurrent smoothing of level\n",
    "                s.append(gamma*(x.iloc[cntr]-l)+(1-gamma)*s[cntr-p])\n",
    "\n",
    "        forecast.iloc[cntr+h] = l + s[cntr+h-(1+h//p)*p]\n",
    "    return forecast\n"
   ]
  },
  {
   "cell_type": "code",
   "execution_count": 13,
   "metadata": {
    "colab": {
     "base_uri": "https://localhost:8080/",
     "height": 563
    },
    "id": "YxMiXVQxSjhy",
    "outputId": "02e711d9-855f-4b79-aaa9-baf4e0835b37"
   },
   "outputs": [
    {
     "ename": "AttributeError",
     "evalue": "`np.NaN` was removed in the NumPy 2.0 release. Use `np.nan` instead.",
     "output_type": "error",
     "traceback": [
      "\u001b[1;31m---------------------------------------------------------------------------\u001b[0m",
      "\u001b[1;31mAttributeError\u001b[0m                            Traceback (most recent call last)",
      "Cell \u001b[1;32mIn[13], line 6\u001b[0m\n\u001b[0;32m      3\u001b[0m GAMMA \u001b[38;5;241m=\u001b[39m np\u001b[38;5;241m.\u001b[39mlinspace(\u001b[38;5;241m0.01\u001b[39m,\u001b[38;5;241m1\u001b[39m,\u001b[38;5;241m10\u001b[39m)\n\u001b[0;32m      5\u001b[0m wint_params \u001b[38;5;241m=\u001b[39m [{\u001b[38;5;124m'\u001b[39m\u001b[38;5;124malpha\u001b[39m\u001b[38;5;124m'\u001b[39m:alpha, \u001b[38;5;124m'\u001b[39m\u001b[38;5;124mgamma\u001b[39m\u001b[38;5;124m'\u001b[39m:gamma, \u001b[38;5;124m'\u001b[39m\u001b[38;5;124mseasonality_period\u001b[39m\u001b[38;5;124m'\u001b[39m:\u001b[38;5;241m7\u001b[39m} \u001b[38;5;28;01mfor\u001b[39;00m alpha \u001b[38;5;129;01min\u001b[39;00m ALPHA \u001b[38;5;28;01mfor\u001b[39;00m gamma \u001b[38;5;129;01min\u001b[39;00m GAMMA]\n\u001b[1;32m----> 6\u001b[0m FRC_SEAS_TS \u001b[38;5;241m=\u001b[39m \u001b[43mmybuild_forecast\u001b[49m\u001b[43m(\u001b[49m\u001b[43mh\u001b[49m\u001b[38;5;241;43m=\u001b[39;49m\u001b[38;5;241;43m1\u001b[39;49m\u001b[43m,\u001b[49m\u001b[43m \u001b[49m\u001b[43mts\u001b[49m\u001b[38;5;241;43m=\u001b[39;49m\u001b[43mts\u001b[49m\u001b[43m,\u001b[49m\u001b[43m \u001b[49m\u001b[43malg_name\u001b[49m\u001b[43m \u001b[49m\u001b[38;5;241;43m=\u001b[39;49m\u001b[43m  \u001b[49m\u001b[38;5;124;43m'\u001b[39;49m\u001b[38;5;124;43mmyAdditiveWintersExponentialSmoothing\u001b[39;49m\u001b[38;5;124;43m'\u001b[39;49m\u001b[43m,\u001b[49m\u001b[43m \u001b[49m\u001b[43malg_title\u001b[49m\u001b[38;5;241;43m=\u001b[39;49m\u001b[38;5;124;43m'\u001b[39;49m\u001b[38;5;124;43mAWinters\u001b[39;49m\u001b[38;5;124;43m'\u001b[39;49m\u001b[43m\\\u001b[49m\n\u001b[0;32m      7\u001b[0m \u001b[43m                              \u001b[49m\u001b[43m,\u001b[49m\u001b[43mparams\u001b[49m\u001b[43m \u001b[49m\u001b[38;5;241;43m=\u001b[39;49m\u001b[43m \u001b[49m\u001b[43mwint_params\u001b[49m\u001b[43m,\u001b[49m\u001b[43m \u001b[49m\u001b[43mstep\u001b[49m\u001b[38;5;241;43m=\u001b[39;49m\u001b[38;5;124;43m'\u001b[39;49m\u001b[38;5;124;43mD\u001b[39;49m\u001b[38;5;124;43m'\u001b[39;49m\u001b[43m)\u001b[49m\n\u001b[0;32m      9\u001b[0m \u001b[38;5;66;03m# # forecast accuracy\u001b[39;00m\n\u001b[0;32m     10\u001b[0m qlt_winters \u001b[38;5;241m=\u001b[39m pd\u001b[38;5;241m.\u001b[39mDataFrame(index \u001b[38;5;241m=\u001b[39m ts\u001b[38;5;241m.\u001b[39mcolumns, columns \u001b[38;5;241m=\u001b[39m FRC_SEAS_TS\u001b[38;5;241m.\u001b[39mkeys())\n",
      "Cell \u001b[1;32mIn[6], line 10\u001b[0m, in \u001b[0;36mmybuild_forecast\u001b[1;34m(h, ts, alg_name, alg_title, params, step)\u001b[0m\n\u001b[0;32m      7\u001b[0m       frc_ts \u001b[38;5;241m=\u001b[39m pd\u001b[38;5;241m.\u001b[39mDataFrame(columns \u001b[38;5;241m=\u001b[39m ts\u001b[38;5;241m.\u001b[39mcolumns)\n\u001b[0;32m      9\u001b[0m       \u001b[38;5;28;01mfor\u001b[39;00m cntr \u001b[38;5;129;01min\u001b[39;00m ts\u001b[38;5;241m.\u001b[39mcolumns:\n\u001b[1;32m---> 10\u001b[0m           frc_ts[cntr] \u001b[38;5;241m=\u001b[39m \u001b[38;5;28;43meval\u001b[39;49m\u001b[43m(\u001b[49m\u001b[43malg_name\u001b[49m\u001b[43m)\u001b[49m\u001b[43m(\u001b[49m\u001b[43mts\u001b[49m\u001b[43m[\u001b[49m\u001b[43mcntr\u001b[49m\u001b[43m]\u001b[49m\u001b[43m,\u001b[49m\u001b[43m \u001b[49m\u001b[43mh\u001b[49m\u001b[43m,\u001b[49m\u001b[43m \u001b[49m\u001b[43mp\u001b[49m\u001b[43m,\u001b[49m\u001b[43m \u001b[49m\u001b[43mstep\u001b[49m\u001b[43m)\u001b[49m\n\u001b[0;32m     12\u001b[0m \u001b[38;5;66;03m#         frc_ts.columns = frc_ts.columns+('%s %s' % (alg_title, p))\u001b[39;00m\n\u001b[0;32m     13\u001b[0m       FRC_TS[\u001b[38;5;124m'\u001b[39m\u001b[38;5;132;01m%s\u001b[39;00m\u001b[38;5;124m \u001b[39m\u001b[38;5;132;01m%s\u001b[39;00m\u001b[38;5;124m'\u001b[39m \u001b[38;5;241m%\u001b[39m (alg_title, p)] \u001b[38;5;241m=\u001b[39m frc_ts\n",
      "Cell \u001b[1;32mIn[12], line 21\u001b[0m, in \u001b[0;36mmyAdditiveWintersExponentialSmoothing\u001b[1;34m(x, h, params, freq)\u001b[0m\n\u001b[0;32m     18\u001b[0m \u001b[38;5;66;03m# prepare Forecast pd.Series to put forecasted values in it\u001b[39;00m\n\u001b[0;32m     19\u001b[0m forecast \u001b[38;5;241m=\u001b[39m pd\u001b[38;5;241m.\u001b[39mSeries(index \u001b[38;5;241m=\u001b[39m x\u001b[38;5;241m.\u001b[39mindex\u001b[38;5;241m.\u001b[39mappend(pd\u001b[38;5;241m.\u001b[39mdate_range(x\u001b[38;5;241m.\u001b[39mindex[\u001b[38;5;241m-\u001b[39m\u001b[38;5;241m1\u001b[39m], periods\u001b[38;5;241m=\u001b[39mh\u001b[38;5;241m+\u001b[39m\u001b[38;5;241m1\u001b[39m, freq\u001b[38;5;241m=\u001b[39mfreq)[\u001b[38;5;241m1\u001b[39m:]), name \u001b[38;5;241m=\u001b[39m \u001b[38;5;124m'\u001b[39m\u001b[38;5;124mfcst \u001b[39m\u001b[38;5;124m'\u001b[39m\u001b[38;5;241m+\u001b[39mx\u001b[38;5;241m.\u001b[39mname)\n\u001b[1;32m---> 21\u001b[0m l\u001b[38;5;241m=\u001b[39m \u001b[43mnp\u001b[49m\u001b[38;5;241;43m.\u001b[39;49m\u001b[43mNaN\u001b[49m\n\u001b[0;32m     22\u001b[0m s\u001b[38;5;241m=\u001b[39m []\n\u001b[0;32m     24\u001b[0m \u001b[38;5;28;01mfor\u001b[39;00m cntr \u001b[38;5;129;01min\u001b[39;00m \u001b[38;5;28mrange\u001b[39m(T):\n",
      "File \u001b[1;32mc:\\Users\\Admin\\AppData\\Local\\Programs\\Python\\Python312\\Lib\\site-packages\\numpy\\__init__.py:411\u001b[0m, in \u001b[0;36m__getattr__\u001b[1;34m(attr)\u001b[0m\n\u001b[0;32m    408\u001b[0m     \u001b[38;5;28;01mraise\u001b[39;00m \u001b[38;5;167;01mAttributeError\u001b[39;00m(__former_attrs__[attr])\n\u001b[0;32m    410\u001b[0m \u001b[38;5;28;01mif\u001b[39;00m attr \u001b[38;5;129;01min\u001b[39;00m __expired_attributes__:\n\u001b[1;32m--> 411\u001b[0m     \u001b[38;5;28;01mraise\u001b[39;00m \u001b[38;5;167;01mAttributeError\u001b[39;00m(\n\u001b[0;32m    412\u001b[0m         \u001b[38;5;124mf\u001b[39m\u001b[38;5;124m\"\u001b[39m\u001b[38;5;124m`np.\u001b[39m\u001b[38;5;132;01m{\u001b[39;00mattr\u001b[38;5;132;01m}\u001b[39;00m\u001b[38;5;124m` was removed in the NumPy 2.0 release. \u001b[39m\u001b[38;5;124m\"\u001b[39m\n\u001b[0;32m    413\u001b[0m         \u001b[38;5;124mf\u001b[39m\u001b[38;5;124m\"\u001b[39m\u001b[38;5;132;01m{\u001b[39;00m__expired_attributes__[attr]\u001b[38;5;132;01m}\u001b[39;00m\u001b[38;5;124m\"\u001b[39m\n\u001b[0;32m    414\u001b[0m     )\n\u001b[0;32m    416\u001b[0m \u001b[38;5;28;01mif\u001b[39;00m attr \u001b[38;5;241m==\u001b[39m \u001b[38;5;124m\"\u001b[39m\u001b[38;5;124mchararray\u001b[39m\u001b[38;5;124m\"\u001b[39m:\n\u001b[0;32m    417\u001b[0m     warnings\u001b[38;5;241m.\u001b[39mwarn(\n\u001b[0;32m    418\u001b[0m         \u001b[38;5;124m\"\u001b[39m\u001b[38;5;124m`np.chararray` is deprecated and will be removed from \u001b[39m\u001b[38;5;124m\"\u001b[39m\n\u001b[0;32m    419\u001b[0m         \u001b[38;5;124m\"\u001b[39m\u001b[38;5;124mthe main namespace in the future. Use an array with a string \u001b[39m\u001b[38;5;124m\"\u001b[39m\n\u001b[0;32m    420\u001b[0m         \u001b[38;5;124m\"\u001b[39m\u001b[38;5;124mor bytes dtype instead.\u001b[39m\u001b[38;5;124m\"\u001b[39m, \u001b[38;5;167;01mDeprecationWarning\u001b[39;00m, stacklevel\u001b[38;5;241m=\u001b[39m\u001b[38;5;241m2\u001b[39m)\n",
      "\u001b[1;31mAttributeError\u001b[0m: `np.NaN` was removed in the NumPy 2.0 release. Use `np.nan` instead."
     ]
    }
   ],
   "source": [
    "# SES Forecast for monthly agregated data\n",
    "ALPHA = np.linspace(0.01,1,10)\n",
    "GAMMA = np.linspace(0.01,1,10)\n",
    "\n",
    "wint_params = [{'alpha':alpha, 'gamma':gamma, 'seasonality_period':7} for alpha in ALPHA for gamma in GAMMA]\n",
    "FRC_SEAS_TS = mybuild_forecast(h=1, ts=ts, alg_name =  'myAdditiveWintersExponentialSmoothing', alg_title='AWinters'\\\n",
    "                              ,params = wint_params, step='D')\n",
    "\n",
    "# # forecast accuracy\n",
    "qlt_winters = pd.DataFrame(index = ts.columns, columns = FRC_SEAS_TS.keys())\n",
    "\n",
    "ix = ts.loc['2006-01-01':'2007-01-01'].index\n",
    "for param_cntr in sorted(qlt_winters.columns):\n",
    "    frc_wage = FRC_SEAS_TS[param_cntr]\n",
    "    qlt_winters[param_cntr],_ = qualityMAPE(ts.loc[ix], frc_wage.loc[ix])\n",
    "\n",
    "# # Draw forecast of the best algorithm (mean on all ts)\n",
    "alg_name = qlt_winters[qlt_winters.columns].mean().sort_values().index[0]\n",
    "plot_ts_forecast(ts.loc[:], FRC_SEAS_TS[alg_name].loc[:]\n",
    "               , ts_num=0, alg_title=alg_name)\n",
    "\n",
    "test_period_start = '2007-01-01'\n",
    "test_period_end = '2007-06-01'\n",
    "print('MAPE: %s' % qualityMAPE(ts.loc[test_period_start:test_period_end], FRC_SEAS_TS[alg_name].loc[test_period_start:test_period_end])[0])"
   ]
  },
  {
   "cell_type": "code",
   "execution_count": 14,
   "metadata": {
    "colab": {
     "base_uri": "https://localhost:8080/",
     "height": 367
    },
    "id": "J2TPFvHXWpoR",
    "outputId": "be78bed8-1cf2-479f-85e8-ae83adb54f96"
   },
   "outputs": [
    {
     "ename": "NameError",
     "evalue": "name 'plot_ts_forecast' is not defined",
     "output_type": "error",
     "traceback": [
      "\u001b[1;31m---------------------------------------------------------------------------\u001b[0m",
      "\u001b[1;31mNameError\u001b[0m                                 Traceback (most recent call last)",
      "Cell \u001b[1;32mIn[14], line 1\u001b[0m\n\u001b[1;32m----> 1\u001b[0m \u001b[43mplot_ts_forecast\u001b[49m(ts\u001b[38;5;241m.\u001b[39mloc[\u001b[38;5;124m'\u001b[39m\u001b[38;5;124m1999-01-01\u001b[39m\u001b[38;5;124m'\u001b[39m:\u001b[38;5;124m'\u001b[39m\u001b[38;5;124m2018-01-01\u001b[39m\u001b[38;5;124m'\u001b[39m], FRC_SEAS_TS[alg_name]\u001b[38;5;241m.\u001b[39mloc[\u001b[38;5;124m'\u001b[39m\u001b[38;5;124m1999-01-01\u001b[39m\u001b[38;5;124m'\u001b[39m:\u001b[38;5;124m'\u001b[39m\u001b[38;5;124m2018-01-01\u001b[39m\u001b[38;5;124m'\u001b[39m]\n\u001b[0;32m      2\u001b[0m                , ts_num\u001b[38;5;241m=\u001b[39m\u001b[38;5;241m5\u001b[39m, alg_title\u001b[38;5;241m=\u001b[39malg_name)\n",
      "\u001b[1;31mNameError\u001b[0m: name 'plot_ts_forecast' is not defined"
     ]
    }
   ],
   "source": [
    "plot_ts_forecast(ts.loc['1999-01-01':'2018-01-01'], FRC_SEAS_TS[alg_name].loc['1999-01-01':'2018-01-01']\n",
    "               , ts_num=5, alg_title=alg_name)"
   ]
  },
  {
   "cell_type": "markdown",
   "metadata": {
    "id": "IeoxvROSZza9"
   },
   "source": [
    "**Questions**\n",
    "  - Does is it seem that forecasting mdoel is proper?"
   ]
  },
  {
   "cell_type": "code",
   "execution_count": 15,
   "metadata": {
    "colab": {
     "base_uri": "https://localhost:8080/",
     "height": 367
    },
    "id": "5OeFmeolKOXK",
    "outputId": "fdd13eb1-3692-4478-91a2-eb8d8172d936"
   },
   "outputs": [
    {
     "ename": "NameError",
     "evalue": "name 'qlt_winters' is not defined",
     "output_type": "error",
     "traceback": [
      "\u001b[1;31m---------------------------------------------------------------------------\u001b[0m",
      "\u001b[1;31mNameError\u001b[0m                                 Traceback (most recent call last)",
      "Cell \u001b[1;32mIn[15], line 2\u001b[0m\n\u001b[0;32m      1\u001b[0m \u001b[38;5;66;03m# the best algorithm for Item9\u001b[39;00m\n\u001b[1;32m----> 2\u001b[0m alg_name \u001b[38;5;241m=\u001b[39m \u001b[43mqlt_winters\u001b[49m\u001b[38;5;241m.\u001b[39mloc[qlt_winters\u001b[38;5;241m.\u001b[39mindex[\u001b[38;5;241m8\u001b[39m]]\u001b[38;5;241m.\u001b[39msort_values()\u001b[38;5;241m.\u001b[39mindex[\u001b[38;5;241m0\u001b[39m]\n\u001b[0;32m      3\u001b[0m plot_ts_forecast(ts, FRC_SEAS_TS[alg_name], ts_num\u001b[38;5;241m=\u001b[39m\u001b[38;5;241m8\u001b[39m, alg_title\u001b[38;5;241m=\u001b[39malg_name)\n",
      "\u001b[1;31mNameError\u001b[0m: name 'qlt_winters' is not defined"
     ]
    }
   ],
   "source": [
    "# the best algorithm for Item9\n",
    "alg_name = qlt_winters.loc[qlt_winters.index[8]].sort_values().index[0]\n",
    "plot_ts_forecast(ts, FRC_SEAS_TS[alg_name], ts_num=8, alg_title=alg_name)"
   ]
  },
  {
   "cell_type": "markdown",
   "metadata": {
    "collapsed": true,
    "id": "K6ChZ2hYdwUw"
   },
   "source": [
    "## Theil-Wage Model"
   ]
  },
  {
   "cell_type": "markdown",
   "metadata": {
    "id": "x1xVXIlpdwUy"
   },
   "source": [
    "**Questions**\n",
    "  - How to consider both additive trend and additive seasonality?"
   ]
  },
  {
   "cell_type": "markdown",
   "metadata": {
    "id": "rv7bhNL9_TkX"
   },
   "source": [
    "Time Series Model:\n",
    "$$ y_t = l_t + b_t + s_t + \\varepsilon_t. $$\n",
    "$s_t$ - seasonal component of period $p$,\n",
    "\n",
    "Forecasting Model\n",
    "$$ \\hat y_{t+d} = \\hat l_t + \\hat b_t\\cdot d + \\hat s_{t+(d\\mod p)-p}. $$\n",
    "\n",
    "$$ \\hat l_t = \\alpha (y_t - \\hat s_{t-p}) + (1-\\alpha) (\\hat l_{t-1} + \\hat b_{t-1} )=\\color{red}{\\hat l_{t-1} + \\hat b_{t-1} + \\alpha e_t};$$\n",
    "\n",
    "$$\\hat b_t = \\beta (\\hat l_{t} - \\hat l_{t-1} ) + (1-\\beta) \\hat b_{t-1} = \\color{red}{\\hat b_{t-1} + \\alpha\\beta e_t};$$\n",
    "\n",
    "$$ \\hat s_t =\\gamma (y_t-\\hat l_{t}) + (1-\\gamma) \\hat s_{t-p} = \\color{red}{\\hat s_{t-p} + \\gamma(1-\\alpha)e_t}.$$\n",
    "\n",
    "Note: there can be other approaches of calculating hidden components, example:\n",
    "$$ \\hat s_t =\\gamma (y_t-\\color{green}{\\hat l_{t-1}-\\hat b_{t-1}}) + (1-\\gamma) \\hat s_{t-p} = \\hat s_{t-p} + \\color{green}{\\gamma e_t}.$$"
   ]
  },
  {
   "cell_type": "code",
   "execution_count": 16,
   "metadata": {
    "id": "SQFS8j7vDWMO"
   },
   "outputs": [],
   "source": [
    "\n",
    "###################### Winters Exponential Smoothing #########################\n",
    "# x <array Tx1>- time series,\n",
    "# h <scalar> - forecasting delay\n",
    "# Params <dict> - dictionary with\n",
    "#    alpha <scalar in [0,1]> - level smoothing parameter\n",
    "#    beta <scalar in [0,1]> - trend smoothing parameter\n",
    "#    gamma <scalar in [0,1]> - seasonality smoothing parameter\n",
    "\n",
    "def myTheilWageExponentialSmoothing(x, h, params, freq = None):\n",
    "    T = len(x)\n",
    "    alpha = params['alpha']\n",
    "    beta = params['beta']\n",
    "    gamma = params['gamma']\n",
    "    p = params['seasonality_period']\n",
    "\n",
    "    # retrieve date frequency in ts\n",
    "    if freq is None:\n",
    "      freq = pd.infer_freq(x.index)\n",
    "\n",
    "    # prepare Forecast pd.Series to put forecasted values in it\n",
    "    forecast = pd.Series(index = x.index.append(pd.date_range(x.index[-1], periods=h+1, freq=freq)[1:]), name = 'fcst '+x.name)\n",
    "\n",
    "    l= np.NaN\n",
    "    b=np.NaN\n",
    "    s= []\n",
    "\n",
    "    for cntr in range(T):\n",
    "        if not math.isnan(x.iloc[cntr]):\n",
    "            if math.isnan(l):\n",
    "                l= x.iloc[cntr]\n",
    "            if math.isnan(b):\n",
    "                b= 0\n",
    "\n",
    "            if len(s)==0:\n",
    "                for i in range(p):\n",
    "                    s.append(x.iloc[i])\n",
    "\n",
    "            if cntr<p:\n",
    "                l_old=l\n",
    "                l = alpha*(x.iloc[cntr]-s[cntr])+(1-alpha)*(l+b)\n",
    "                b=beta*(l-l_old)+(1-beta)*b\n",
    "            else:\n",
    "                l_old=l\n",
    "                l = alpha*(x.iloc[cntr]-s[cntr-p])+(1-alpha)*(l+b) # recurrent smoothing of level\n",
    "                b=beta*(l-l_old)+(1-beta)*b\n",
    "                s.append(gamma*(x.iloc[cntr]-l)+(1-gamma)*s[cntr-p])\n",
    "\n",
    "        forecast.iloc[cntr+h] = l+b*h + s[cntr+h - (1+h//p)*p]\n",
    "    return forecast"
   ]
  },
  {
   "cell_type": "code",
   "execution_count": 17,
   "metadata": {
    "colab": {
     "base_uri": "https://localhost:8080/",
     "height": 403
    },
    "id": "5Dk911H7YHpS",
    "outputId": "613d2d85-9a08-4332-e180-45495f7a9198"
   },
   "outputs": [
    {
     "ename": "AttributeError",
     "evalue": "`np.NaN` was removed in the NumPy 2.0 release. Use `np.nan` instead.",
     "output_type": "error",
     "traceback": [
      "\u001b[1;31m---------------------------------------------------------------------------\u001b[0m",
      "\u001b[1;31mAttributeError\u001b[0m                            Traceback (most recent call last)",
      "Cell \u001b[1;32mIn[17], line 7\u001b[0m\n\u001b[0;32m      4\u001b[0m GAMMA \u001b[38;5;241m=\u001b[39m np\u001b[38;5;241m.\u001b[39mlinspace(\u001b[38;5;241m0.01\u001b[39m,\u001b[38;5;241m1\u001b[39m,\u001b[38;5;241m10\u001b[39m)\n\u001b[0;32m      6\u001b[0m tw_params \u001b[38;5;241m=\u001b[39m [{\u001b[38;5;124m'\u001b[39m\u001b[38;5;124malpha\u001b[39m\u001b[38;5;124m'\u001b[39m:alpha, \u001b[38;5;124m'\u001b[39m\u001b[38;5;124mbeta\u001b[39m\u001b[38;5;124m'\u001b[39m:beta, \u001b[38;5;124m'\u001b[39m\u001b[38;5;124mgamma\u001b[39m\u001b[38;5;124m'\u001b[39m:gamma, \u001b[38;5;124m'\u001b[39m\u001b[38;5;124mseasonality_period\u001b[39m\u001b[38;5;124m'\u001b[39m:\u001b[38;5;241m12\u001b[39m} \u001b[38;5;28;01mfor\u001b[39;00m alpha \u001b[38;5;129;01min\u001b[39;00m ALPHA \u001b[38;5;28;01mfor\u001b[39;00m gamma \u001b[38;5;129;01min\u001b[39;00m GAMMA \u001b[38;5;28;01mfor\u001b[39;00m beta \u001b[38;5;129;01min\u001b[39;00m BETA]\n\u001b[1;32m----> 7\u001b[0m FRC_TREND_SEAS_TS \u001b[38;5;241m=\u001b[39m \u001b[43mmybuild_forecast\u001b[49m\u001b[43m(\u001b[49m\u001b[43mh\u001b[49m\u001b[38;5;241;43m=\u001b[39;49m\u001b[38;5;241;43m12\u001b[39;49m\u001b[43m,\u001b[49m\u001b[43m \u001b[49m\u001b[43mts\u001b[49m\u001b[38;5;241;43m=\u001b[39;49m\u001b[43mwage\u001b[49m\u001b[43m,\u001b[49m\u001b[43m \u001b[49m\u001b[43malg_name\u001b[49m\u001b[43m \u001b[49m\u001b[38;5;241;43m=\u001b[39;49m\u001b[43m \u001b[49m\u001b[38;5;124;43m'\u001b[39;49m\u001b[38;5;124;43mmyTheilWageExponentialSmoothing\u001b[39;49m\u001b[38;5;124;43m'\u001b[39;49m\u001b[43m,\u001b[49m\u001b[43m \u001b[49m\u001b[43malg_title\u001b[49m\u001b[38;5;241;43m=\u001b[39;49m\u001b[38;5;124;43m'\u001b[39;49m\u001b[38;5;124;43mTW\u001b[39;49m\u001b[38;5;124;43m'\u001b[39;49m\u001b[43m\\\u001b[49m\n\u001b[0;32m      8\u001b[0m \u001b[43m                              \u001b[49m\u001b[43m,\u001b[49m\u001b[43mparams\u001b[49m\u001b[43m \u001b[49m\u001b[38;5;241;43m=\u001b[39;49m\u001b[43m \u001b[49m\u001b[43mtw_params\u001b[49m\u001b[43m,\u001b[49m\u001b[43m \u001b[49m\u001b[43mstep\u001b[49m\u001b[38;5;241;43m=\u001b[39;49m\u001b[38;5;124;43m'\u001b[39;49m\u001b[38;5;124;43mME\u001b[39;49m\u001b[38;5;124;43m'\u001b[39;49m\u001b[43m)\u001b[49m\n\u001b[0;32m     10\u001b[0m \u001b[38;5;66;03m# # forecast accuracy\u001b[39;00m\n\u001b[0;32m     11\u001b[0m qlt_tw \u001b[38;5;241m=\u001b[39m pd\u001b[38;5;241m.\u001b[39mDataFrame(index \u001b[38;5;241m=\u001b[39m wage\u001b[38;5;241m.\u001b[39mcolumns, columns \u001b[38;5;241m=\u001b[39m FRC_TREND_SEAS_TS\u001b[38;5;241m.\u001b[39mkeys())\n",
      "Cell \u001b[1;32mIn[6], line 10\u001b[0m, in \u001b[0;36mmybuild_forecast\u001b[1;34m(h, ts, alg_name, alg_title, params, step)\u001b[0m\n\u001b[0;32m      7\u001b[0m       frc_ts \u001b[38;5;241m=\u001b[39m pd\u001b[38;5;241m.\u001b[39mDataFrame(columns \u001b[38;5;241m=\u001b[39m ts\u001b[38;5;241m.\u001b[39mcolumns)\n\u001b[0;32m      9\u001b[0m       \u001b[38;5;28;01mfor\u001b[39;00m cntr \u001b[38;5;129;01min\u001b[39;00m ts\u001b[38;5;241m.\u001b[39mcolumns:\n\u001b[1;32m---> 10\u001b[0m           frc_ts[cntr] \u001b[38;5;241m=\u001b[39m \u001b[38;5;28;43meval\u001b[39;49m\u001b[43m(\u001b[49m\u001b[43malg_name\u001b[49m\u001b[43m)\u001b[49m\u001b[43m(\u001b[49m\u001b[43mts\u001b[49m\u001b[43m[\u001b[49m\u001b[43mcntr\u001b[49m\u001b[43m]\u001b[49m\u001b[43m,\u001b[49m\u001b[43m \u001b[49m\u001b[43mh\u001b[49m\u001b[43m,\u001b[49m\u001b[43m \u001b[49m\u001b[43mp\u001b[49m\u001b[43m,\u001b[49m\u001b[43m \u001b[49m\u001b[43mstep\u001b[49m\u001b[43m)\u001b[49m\n\u001b[0;32m     12\u001b[0m \u001b[38;5;66;03m#         frc_ts.columns = frc_ts.columns+('%s %s' % (alg_title, p))\u001b[39;00m\n\u001b[0;32m     13\u001b[0m       FRC_TS[\u001b[38;5;124m'\u001b[39m\u001b[38;5;132;01m%s\u001b[39;00m\u001b[38;5;124m \u001b[39m\u001b[38;5;132;01m%s\u001b[39;00m\u001b[38;5;124m'\u001b[39m \u001b[38;5;241m%\u001b[39m (alg_title, p)] \u001b[38;5;241m=\u001b[39m frc_ts\n",
      "Cell \u001b[1;32mIn[16], line 23\u001b[0m, in \u001b[0;36mmyTheilWageExponentialSmoothing\u001b[1;34m(x, h, params, freq)\u001b[0m\n\u001b[0;32m     20\u001b[0m \u001b[38;5;66;03m# prepare Forecast pd.Series to put forecasted values in it\u001b[39;00m\n\u001b[0;32m     21\u001b[0m forecast \u001b[38;5;241m=\u001b[39m pd\u001b[38;5;241m.\u001b[39mSeries(index \u001b[38;5;241m=\u001b[39m x\u001b[38;5;241m.\u001b[39mindex\u001b[38;5;241m.\u001b[39mappend(pd\u001b[38;5;241m.\u001b[39mdate_range(x\u001b[38;5;241m.\u001b[39mindex[\u001b[38;5;241m-\u001b[39m\u001b[38;5;241m1\u001b[39m], periods\u001b[38;5;241m=\u001b[39mh\u001b[38;5;241m+\u001b[39m\u001b[38;5;241m1\u001b[39m, freq\u001b[38;5;241m=\u001b[39mfreq)[\u001b[38;5;241m1\u001b[39m:]), name \u001b[38;5;241m=\u001b[39m \u001b[38;5;124m'\u001b[39m\u001b[38;5;124mfcst \u001b[39m\u001b[38;5;124m'\u001b[39m\u001b[38;5;241m+\u001b[39mx\u001b[38;5;241m.\u001b[39mname)\n\u001b[1;32m---> 23\u001b[0m l\u001b[38;5;241m=\u001b[39m \u001b[43mnp\u001b[49m\u001b[38;5;241;43m.\u001b[39;49m\u001b[43mNaN\u001b[49m\n\u001b[0;32m     24\u001b[0m b\u001b[38;5;241m=\u001b[39mnp\u001b[38;5;241m.\u001b[39mNaN\n\u001b[0;32m     25\u001b[0m s\u001b[38;5;241m=\u001b[39m []\n",
      "File \u001b[1;32mc:\\Users\\Admin\\AppData\\Local\\Programs\\Python\\Python312\\Lib\\site-packages\\numpy\\__init__.py:411\u001b[0m, in \u001b[0;36m__getattr__\u001b[1;34m(attr)\u001b[0m\n\u001b[0;32m    408\u001b[0m     \u001b[38;5;28;01mraise\u001b[39;00m \u001b[38;5;167;01mAttributeError\u001b[39;00m(__former_attrs__[attr])\n\u001b[0;32m    410\u001b[0m \u001b[38;5;28;01mif\u001b[39;00m attr \u001b[38;5;129;01min\u001b[39;00m __expired_attributes__:\n\u001b[1;32m--> 411\u001b[0m     \u001b[38;5;28;01mraise\u001b[39;00m \u001b[38;5;167;01mAttributeError\u001b[39;00m(\n\u001b[0;32m    412\u001b[0m         \u001b[38;5;124mf\u001b[39m\u001b[38;5;124m\"\u001b[39m\u001b[38;5;124m`np.\u001b[39m\u001b[38;5;132;01m{\u001b[39;00mattr\u001b[38;5;132;01m}\u001b[39;00m\u001b[38;5;124m` was removed in the NumPy 2.0 release. \u001b[39m\u001b[38;5;124m\"\u001b[39m\n\u001b[0;32m    413\u001b[0m         \u001b[38;5;124mf\u001b[39m\u001b[38;5;124m\"\u001b[39m\u001b[38;5;132;01m{\u001b[39;00m__expired_attributes__[attr]\u001b[38;5;132;01m}\u001b[39;00m\u001b[38;5;124m\"\u001b[39m\n\u001b[0;32m    414\u001b[0m     )\n\u001b[0;32m    416\u001b[0m \u001b[38;5;28;01mif\u001b[39;00m attr \u001b[38;5;241m==\u001b[39m \u001b[38;5;124m\"\u001b[39m\u001b[38;5;124mchararray\u001b[39m\u001b[38;5;124m\"\u001b[39m:\n\u001b[0;32m    417\u001b[0m     warnings\u001b[38;5;241m.\u001b[39mwarn(\n\u001b[0;32m    418\u001b[0m         \u001b[38;5;124m\"\u001b[39m\u001b[38;5;124m`np.chararray` is deprecated and will be removed from \u001b[39m\u001b[38;5;124m\"\u001b[39m\n\u001b[0;32m    419\u001b[0m         \u001b[38;5;124m\"\u001b[39m\u001b[38;5;124mthe main namespace in the future. Use an array with a string \u001b[39m\u001b[38;5;124m\"\u001b[39m\n\u001b[0;32m    420\u001b[0m         \u001b[38;5;124m\"\u001b[39m\u001b[38;5;124mor bytes dtype instead.\u001b[39m\u001b[38;5;124m\"\u001b[39m, \u001b[38;5;167;01mDeprecationWarning\u001b[39;00m, stacklevel\u001b[38;5;241m=\u001b[39m\u001b[38;5;241m2\u001b[39m)\n",
      "\u001b[1;31mAttributeError\u001b[0m: `np.NaN` was removed in the NumPy 2.0 release. Use `np.nan` instead."
     ]
    }
   ],
   "source": [
    "# TW Forecast for monthly agregated data\n",
    "ALPHA = np.linspace(0.01,1,10)\n",
    "BETA = np.linspace(0.01,1,10)\n",
    "GAMMA = np.linspace(0.01,1,10)\n",
    "\n",
    "tw_params = [{'alpha':alpha, 'beta':beta, 'gamma':gamma, 'seasonality_period':12} for alpha in ALPHA for gamma in GAMMA for beta in BETA]\n",
    "FRC_TREND_SEAS_TS = mybuild_forecast(h=12, ts=wage, alg_name = 'myTheilWageExponentialSmoothing', alg_title='TW'\\\n",
    "                              ,params = tw_params, step='ME')\n",
    "\n",
    "# # forecast accuracy\n",
    "qlt_tw = pd.DataFrame(index = wage.columns, columns = FRC_TREND_SEAS_TS.keys())\n",
    "\n",
    "ix = wage.loc['2010-01':'2018-01'].index\n",
    "for param_cntr in sorted(qlt_tw.columns):\n",
    "    frc = FRC_TREND_SEAS_TS[param_cntr]\n",
    "    qlt_tw[param_cntr],_ = qualityMAPE(wage.loc[ix], frc.loc[ix])\n",
    "\n",
    "# # Draw forecast of the best SES algorithm\n",
    "alg_name = qlt_tw[qlt_tw.columns].mean().sort_values().index[0]\n",
    "plot_ts_forecast(wage.loc['1999-01-01':'2018-01-01'], FRC_TREND_SEAS_TS[alg_name].loc['1999-01-01':'2018-01-01']\n",
    "               , ts_num=0, alg_title=alg_name)\n",
    "\n",
    "test_period_start = '2015-01-01'\n",
    "test_period_end = '2018-01-01'\n",
    "print('MAPE: %s' % qualityMAPE(wage.loc[test_period_start:test_period_end], FRC_TREND_SEAS_TS[alg_name].loc[test_period_start:test_period_end])[0])"
   ]
  },
  {
   "cell_type": "markdown",
   "metadata": {
    "id": "1XtzToj_D_PF"
   },
   "source": [
    "# Exponential Smoothing Models Family\n",
    "\n",
    "<!-- # use only for the first run:\n",
    "# !pip install sktime\n",
    "from sktime.datasets import load_airline\n",
    "y = load_airline()\n",
    "y_train, y_test = temporal_train_test_split(y)\n",
    "fh = ForecastingHorizon(y_test.index, is_relative=False)\n",
    "forecaster = ThetaForecaster(sp=12)  # monthly seasonal periodicity\n",
    "forecaster.fit(y_train)\n",
    "y_pred = forecaster.predict(fh)\n",
    "mean_absolute_percentage_error(y_test, y_pred)\n",
    "y.plot(figsize = (25,10))\n",
    "y_pred.plot() -->"
   ]
  },
  {
   "cell_type": "markdown",
   "metadata": {
    "id": "0U0yv0W7ED8I"
   },
   "source": [
    "## Multiplicative trend model\n",
    "**Multiplicative (exponential) trend:**\n",
    "\t\t$$\n",
    "\t\t\\hat{y}_{t+d|t} = l_tb_t^d, \\\\\n",
    "\t\tl_{t}       = \\alpha y_t + \\left(1-\\alpha\\right) \\left(l_{t-1} b_{t-1}\\right), \\\\\n",
    "\t\tb_t         = \\beta \\frac{l_t}{l_{t-1}} + \\left(1-\\beta\\right) b_{t-1}.\n",
    "\t\t$$\n",
    "\n",
    "\n",
    "\n"
   ]
  },
  {
   "cell_type": "markdown",
   "metadata": {
    "id": "Yx7bSmu6G_e7"
   },
   "source": [
    "## Damp-trend model\n",
    "\n",
    "**Additive damped trend**\n",
    "\t\t$$\n",
    "\t\t\\hat{y}_{t+d|t} = l_t + \\left(\\phi + \\phi^2 + \\dots + \\phi^{d}\\right) b_t, \\\\\n",
    "\t\tl_{t}       = \\alpha y_t + \\left(1-\\alpha\\right) \\left(l_{t-1} +\\phi b_{t-1}\\right), \\\\\n",
    "\t\tb_t         = \\beta \\left(l_t - l_{t-1}\\right) + \\left(1-\\beta\\right)\\phi b_{t-1}.\n",
    "\t\t$$\n",
    "\n",
    "<br></br>\n",
    "**Multiplicative damped trend**\n",
    "\t\t$$\n",
    "\t\t\\hat{y}_{t+d|t} = l_t b_t^{\\left(\\phi + \\phi^2 + \\dots + \\phi^{d}\\right)}, \\\\\n",
    "\t\tl_{t}       = \\alpha y_t + \\left(1-\\alpha\\right) l_{t-1} b_{t-1}^{\\phi}, \\\\\n",
    "\t\tb_t         = \\beta\\frac{l_t}{l_{t-1}} + \\left(1-\\beta\\right)b_{t-1}^{\\phi}.\n",
    "\t\t$$\n"
   ]
  },
  {
   "cell_type": "markdown",
   "metadata": {
    "id": "yxZX6RB_HT6N"
   },
   "source": [
    "## Multiplicative Seasonality or Multiplicative Trend\n",
    "\n",
    "**Additive Trend and Multiplicative Seasonality**\n",
    "$$ \\hat y_{t+d} = (l_t + b_t d) \\cdot s_{t+d},$$\n",
    "    \n",
    "$$   l_t = \\alpha (y_t / s_{t-p}) + (1-\\alpha) (l_{t-1} + b_{t-1} ) = \\color{red}{l_{t-1} + b_{t-1} + \\alpha e_t/ s_{t-p}}; $$\n",
    "\n",
    "\n",
    "$$  b_t = \\beta (l_{t} - l_{t-1} ) + (1-\\beta) b_{t-1} = \\color{red}{b_{t-1}+ \\alpha\\beta e_t/s_{t-p}}; $$\n",
    "\n",
    "\n",
    "$$s_t = \\gamma (y_t/l_t) + (1-\\gamma) s_{t-p} = \\color{red}{s_{t-p} + \\gamma (1-\\alpha) e_t/l_t} .   $$\n",
    "\n",
    "<br></br>\n",
    "**Multiplicative Trend and Additive Seasonality**\n",
    "$$ \\hat y_{t+d} = (l_t \\cdot b_t d) + s_{t+d},$$\n",
    "\n",
    "\n",
    "$$ l_t = \\alpha (y_t - s_{t-p}) + (1-\\alpha) (l_{t-1} \\cdot b_{t-1} );$$\n",
    "\n",
    "$$b_t = \\beta (l_{t} / l_{t-1} ) + (1-\\beta) b_{t-1};$$\n",
    "\n",
    "$$ s_t =\\gamma (y_t-l_t) + (1-\\gamma) s_{t-p}.$$\n",
    "\n",
    "<br></br>\n",
    "**Multiplicative Trend and Mupltiplicative Seasonlality**\n",
    "\n",
    "$$    \\hat y_{t+d} = l_t (b_t)^d \\cdot s_{t + (d \\bmod p) -p},    $$\n",
    "\n",
    "$$    l_t \\mathop{=} \\alpha (y_t / s_{t-p}) + (1-\\alpha) l_{t-1} b_{t-1} = \\color{red}{l_{t-1} b_{t-1} + \\alpha e_t/s_{t-1}};$$\n",
    "\n",
    "$$ b_t \\mathop{=} \\beta (l_{t} / l_{t-1} ) + (1-\\beta) b_{t-1} =  \\color{red}{b_{t-1}+\\alpha\\beta e_t/s_{t-1}};$$\n",
    "\n",
    "$$ s_t \\mathop{=} \\gamma (y_t/l_t) + (1-\\gamma) s_{t-p} = \\color{red}{s_{t-p} + \\gamma(1-\\alpha)e_t/l_{t}}.$$\n"
   ]
  },
  {
   "cell_type": "markdown",
   "metadata": {
    "id": "sr7ffHIMOLuM"
   },
   "source": [
    "## Taxonomy of Time Series ES Models\n",
    "\n",
    " <table border=\"0\">\n",
    " <tr>\n",
    "    <td>\n",
    "     Trend\\Seasonality\n",
    "    </td>\n",
    "    <td>\n",
    "       Seasonality N (None)\n",
    "    </td>\n",
    "    <td>\n",
    "       Seasonality A (Additive)\n",
    "    </td>\n",
    "    <td>\n",
    "       Seasonality M (Multiplicative)\n",
    "    </td>\n",
    "</tr>\n",
    " <tr>\n",
    "    <td>\n",
    "      Trend N (None)\n",
    "    </td>\n",
    "    <td>(N, N)</td>\n",
    "    <td>(N, A)</td>\n",
    "    <td>(N, M)</td>\n",
    " </tr>\n",
    " <tr>\n",
    "    <td>\n",
    "      Trend A (Additive)\n",
    "    </td>\n",
    "    <td>(A, N)</td>\n",
    "    <td>(A, A)</td>\n",
    "    <td>(A, M)</td>\n",
    " </tr>\n",
    " <tr>\n",
    "    <td>\n",
    "      Trend Ad (Additive damped)\n",
    "    </td>\n",
    "    <td>(Ad, N)</td>\n",
    "    <td>(Ad, A)</td>\n",
    "    <td>(Ad, M)</td>\n",
    " </tr>\n",
    " <tr>\n",
    "    <td>\n",
    "      Trend M (Multiplicative)\n",
    "    </td>\n",
    "    <td>(M, N)</td>\n",
    "    <td>(M, A)</td>\n",
    "    <td>(M, M)</td>\n",
    " </tr>\n",
    " <tr>\n",
    "    <td>\n",
    "      Trend Md (Multiplicative damped)\n",
    "    </td>\n",
    "    <td>(Md, N)</td>\n",
    "    <td>(Md, A)</td>\n",
    "    <td>(Md, M)</td>\n",
    " </tr>\n",
    "</table>"
   ]
  },
  {
   "cell_type": "markdown",
   "metadata": {
    "id": "5A9ZBoIudwVe"
   },
   "source": [
    "## Pro&Cons Exponential Smoothing models\n",
    "   PRO | Cons\n",
    "-------------------|------------------\n",
    "Easy to Interpretate       | Initialization issues\n",
    "Very fast, low computational time       |  Are not stable (retrain is needed)\n",
    "Can be applied to ts with missings       | Is not possible to inlcude causal variables"
   ]
  },
  {
   "cell_type": "markdown",
   "metadata": {
    "id": "Khig4W7u65eA"
   },
   "source": [
    "<!-- # Use Case: Working with ESM models in SAS Visual Forecasting tool -->\n",
    " <!-- - More than 50% of all TS are forecasted by models from ES family -->"
   ]
  },
  {
   "cell_type": "markdown",
   "metadata": {
    "id": "cvdNYxuSDrcC"
   },
   "source": [
    "\n",
    "# HW1\n",
    "see https://github.com/aromanenko/ATSF/blob/main/HW1.ipynb"
   ]
  },
  {
   "cell_type": "markdown",
   "metadata": {
    "id": "jQRo_w8bKokc"
   },
   "source": [
    "# Check Questions\n",
    "  * Write down formula of Holt model forecast.\n",
    "  * Write down formula of Winters model forecast.\n",
    "  * List two different ways to estimate actual value of seasonal component in Additive Winters model.\n",
    "  * What are advantages of ES models?\n",
    "  * What is the main drawback of the model?\n",
    "  "
   ]
  },
  {
   "cell_type": "markdown",
   "metadata": {
    "id": "t4lAyfygdwVe"
   },
   "source": [
    "# Materials\n",
    "\n",
    "- [Лукашин Ю.П. Адаптивные методы краткосрочного прогнозирования временных рядов. Финансы и статистика. 2003, главы 1,4,5,7.](https://disk.yandex.ru/i/9k3i4SHFSgPP_A)\n",
    "\n",
    "- [Магнус Я.Р., Катышев П.К., Пересецкий А.А. Эконометрика. Начальный курс., глава 11](https://disk.yandex.ru/i/gkzWBBCv42ZcBA)\n",
    "\n",
    "- [Rob J Hyndman, Forecasting: Principles & Practice, 23-25 September 2014](https://robjhyndman.com/uwafiles/fpp-notes.pdf)\n",
    "\n",
    "- [James D Hamilton, Time Series Analysis, 1994](http://mayoral.iae-csic.org/timeseries2021/hamilton.pdf)"
   ]
  }
 ],
 "metadata": {
  "colab": {
   "name": "3_Holt, Winters, Theil-Wage.ipynb",
   "provenance": []
  },
  "kernelspec": {
   "display_name": "Python 3",
   "name": "python3"
  },
  "language_info": {
   "codemirror_mode": {
    "name": "ipython",
    "version": 3
   },
   "file_extension": ".py",
   "mimetype": "text/x-python",
   "name": "python",
   "nbconvert_exporter": "python",
   "pygments_lexer": "ipython3",
   "version": "3.12.5"
  }
 },
 "nbformat": 4,
 "nbformat_minor": 0
}
